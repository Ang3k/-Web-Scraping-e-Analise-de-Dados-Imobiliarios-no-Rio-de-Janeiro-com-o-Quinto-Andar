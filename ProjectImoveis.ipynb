{
 "cells": [
  {
   "cell_type": "markdown",
   "source": [
    "Importando as bibliotecas necessárias."
   ],
   "metadata": {
    "collapsed": false
   }
  },
  {
   "cell_type": "code",
   "execution_count": 28,
   "outputs": [],
   "source": [
    "from selenium import webdriver\n",
    "from selenium.webdriver.chrome.options import Options\n",
    "from selenium.webdriver.common.by import By\n",
    "from selenium.webdriver.support.ui import WebDriverWait\n",
    "from selenium.webdriver.support import expected_conditions as EC\n",
    "from bs4 import BeautifulSoup\n",
    "import time\n",
    "import requests\n",
    "import pandas as pd"
   ],
   "metadata": {
    "collapsed": false,
    "ExecuteTime": {
     "end_time": "2024-05-06T21:22:00.862908600Z",
     "start_time": "2024-05-06T21:22:00.733557600Z"
    }
   }
  },
  {
   "cell_type": "markdown",
   "source": [
    "Extração dos links, utilizando BS4 e Selenium, site base contém diversos links dos imóveis e um botão \"Ver Mais\"\n",
    "em que utilizei Selenium (linha 20 - 22) para continuar avançando.\n",
    "\n",
    "Nota: Pode ser útil alterar os parãmetros em 'WebDriverWait(driver, 2)' e 'time.sleep(2)' dependendo da potência\n",
    "do computador do usuário desse código."
   ],
   "metadata": {
    "collapsed": false
   }
  },
  {
   "cell_type": "code",
   "execution_count": 29,
   "outputs": [
    {
     "name": "stdout",
     "output_type": "stream",
     "text": [
      "['https://www.quintoandar.com.br/imovel/894481185/comprar/apartamento-2-quartos-meier-rio-de-janeiro', 'https://www.quintoandar.com.br/imovel/893153438/comprar/apartamento-1-quarto-rio-comprido-rio-de-janeiro', 'https://www.quintoandar.com.br/imovel/894462586/comprar/casa-4-quartos-tanque-rio-de-janeiro', 'https://www.quintoandar.com.br/imovel/893727119/comprar/apartamento-2-quartos-tanque-rio-de-janeiro', 'https://www.quintoandar.com.br/imovel/893639865/comprar/apartamento-2-quartos-vila-isabel-rio-de-janeiro', 'https://www.quintoandar.com.br/imovel/894479919/comprar/apartamento-2-quartos-estacio-rio-de-janeiro', 'https://www.quintoandar.com.br/imovel/893963229/comprar/casa-4-quartos-piedade-rio-de-janeiro', 'https://www.quintoandar.com.br/imovel/894006088/comprar/apartamento-2-quartos-tanque-rio-de-janeiro', 'https://www.quintoandar.com.br/imovel/893769478/comprar/apartamento-3-quartos-jacarepagua-rio-de-janeiro', 'https://www.quintoandar.com.br/imovel/894443612/comprar/casa-3-quartos-tanque-rio-de-janeiro', 'https://www.quintoandar.com.br/imovel/894453856/comprar/apartamento-2-quartos-rio-comprido-rio-de-janeiro', 'https://www.quintoandar.com.br/imovel/894478482/comprar/apartamento-2-quartos-itanhanga-rio-de-janeiro', 'https://www.quintoandar.com.br/imovel/894484554/comprar/apartamento-3-quartos-grajau-rio-de-janeiro', 'https://www.quintoandar.com.br/imovel/894479427/comprar/apartamento-2-quartos-sao-cristovao-rio-de-janeiro', 'https://www.quintoandar.com.br/imovel/893515227/comprar/apartamento-2-quartos-andarai-rio-de-janeiro', 'https://www.quintoandar.com.br/imovel/894455194/comprar/apartamento-1-quarto-maracana-rio-de-janeiro', 'https://www.quintoandar.com.br/imovel/894377840/comprar/casa-3-quartos-riachuelo-rio-de-janeiro', 'https://www.quintoandar.com.br/imovel/894395336/comprar/apartamento-2-quartos-estacio-rio-de-janeiro', 'https://www.quintoandar.com.br/imovel/894451419/comprar/apartamento-2-quartos-tijuca-rio-de-janeiro', 'https://www.quintoandar.com.br/imovel/894462209/comprar/casa-3-quartos-tijuca-rio-de-janeiro', 'https://www.quintoandar.com.br/imovel/893287161/comprar/apartamento-2-quartos-higienopolis-rio-de-janeiro', 'https://www.quintoandar.com.br/imovel/893967735/comprar/apartamento-3-quartos-vasco-da-gama-rio-de-janeiro', 'https://www.quintoandar.com.br/imovel/894480585/comprar/apartamento-1-quarto-centro-rio-de-janeiro', 'https://www.quintoandar.com.br/imovel/893243327/comprar/apartamento-2-quartos-taquara-rio-de-janeiro', 'https://www.quintoandar.com.br/imovel/893283328/comprar/apartamento-2-quartos-tijuca-rio-de-janeiro', 'https://www.quintoandar.com.br/imovel/894014880/comprar/casa-3-quartos-sampaio-rio-de-janeiro', 'https://www.quintoandar.com.br/imovel/894405464/comprar/apartamento-2-quartos-grajau-rio-de-janeiro', 'https://www.quintoandar.com.br/imovel/894480969/comprar/apartamento-1-quarto-centro-rio-de-janeiro', 'https://www.quintoandar.com.br/imovel/894010029/comprar/apartamento-2-quartos-cordovil-rio-de-janeiro', 'https://www.quintoandar.com.br/imovel/894442608/comprar/casa-2-quartos-cascadura-rio-de-janeiro', 'https://www.quintoandar.com.br/imovel/894464677/comprar/apartamento-1-quarto-tijuca-rio-de-janeiro', 'https://www.quintoandar.com.br/imovel/894441802/comprar/apartamento-2-quartos-sao-cristovao-rio-de-janeiro', 'https://www.quintoandar.com.br/imovel/894477462/comprar/apartamento-2-quartos-vila-isabel-rio-de-janeiro', 'https://www.quintoandar.com.br/imovel/894474894/comprar/apartamento-1-quarto-barra-da-tijuca-rio-de-janeiro', 'https://www.quintoandar.com.br/imovel/894456233/comprar/apartamento-3-quartos-meier-rio-de-janeiro', 'https://www.quintoandar.com.br/imovel/893185568/comprar/apartamento-3-quartos-tijuca-rio-de-janeiro', 'https://www.quintoandar.com.br/imovel/894413407/comprar/apartamento-3-quartos-andarai-rio-de-janeiro', 'https://www.quintoandar.com.br/imovel/894477530/comprar/casa-3-quartos-freguesia-jacarepagua-rio-de-janeiro', 'https://www.quintoandar.com.br/imovel/893790899/comprar/casa-2-quartos-vila-isabel-rio-de-janeiro', 'https://www.quintoandar.com.br/imovel/893734960/comprar/apartamento-1-quarto-bonsucesso-rio-de-janeiro', 'https://www.quintoandar.com.br/imovel/894469445/comprar/apartamento-2-quartos-taquara-rio-de-janeiro', 'https://www.quintoandar.com.br/imovel/894481485/comprar/apartamento-1-quarto-centro-rio-de-janeiro', 'https://www.quintoandar.com.br/imovel/893122595/comprar/apartamento-2-quartos-rio-comprido-rio-de-janeiro', 'https://www.quintoandar.com.br/imovel/893234775/comprar/apartamento-2-quartos-maracana-rio-de-janeiro', 'https://www.quintoandar.com.br/imovel/893374361/comprar/apartamento-2-quartos-centro-rio-de-janeiro', 'https://www.quintoandar.com.br/imovel/893687669/comprar/apartamento-1-quarto-botafogo-rio-de-janeiro', 'https://www.quintoandar.com.br/imovel/894478138/comprar/apartamento-2-quartos-taquara-rio-de-janeiro', 'https://www.quintoandar.com.br/imovel/893513949/comprar/apartamento-2-quartos-tijuca-rio-de-janeiro', 'https://www.quintoandar.com.br/imovel/894481437/comprar/apartamento-2-quartos-tijuca-rio-de-janeiro', 'https://www.quintoandar.com.br/imovel/893927374/comprar/apartamento-3-quartos-olaria-rio-de-janeiro', 'https://www.quintoandar.com.br/imovel/893443110/comprar/apartamento-2-quartos-riachuelo-rio-de-janeiro', 'https://www.quintoandar.com.br/imovel/894364808/comprar/apartamento-2-quartos-pechincha-rio-de-janeiro', 'https://www.quintoandar.com.br/imovel/893388352/comprar/apartamento-2-quartos-cascadura-rio-de-janeiro', 'https://www.quintoandar.com.br/imovel/894476497/comprar/casa-2-quartos-jacarepagua-rio-de-janeiro', 'https://www.quintoandar.com.br/imovel/894450192/comprar/apartamento-1-quarto-centro-rio-de-janeiro', 'https://www.quintoandar.com.br/imovel/894399053/comprar/apartamento-3-quartos-madureira-rio-de-janeiro', 'https://www.quintoandar.com.br/imovel/894460611/comprar/casa-2-quartos-cascadura-rio-de-janeiro', 'https://www.quintoandar.com.br/imovel/894470143/comprar/apartamento-3-quartos-maracana-rio-de-janeiro', 'https://www.quintoandar.com.br/imovel/894335937/comprar/casa-3-quartos-tanque-rio-de-janeiro', 'https://www.quintoandar.com.br/imovel/894403916/comprar/apartamento-3-quartos-jacarepagua-rio-de-janeiro', 'https://www.quintoandar.com.br/imovel/893312616/comprar/apartamento-2-quartos-itanhanga-rio-de-janeiro', 'https://www.quintoandar.com.br/imovel/894459422/comprar/casa-2-quartos-jacarepagua-rio-de-janeiro', 'https://www.quintoandar.com.br/imovel/894473538/comprar/apartamento-3-quartos-tijuca-rio-de-janeiro', 'https://www.quintoandar.com.br/imovel/893023535/comprar/apartamento-2-quartos-maracana-rio-de-janeiro', 'https://www.quintoandar.com.br/imovel/894363761/comprar/casa-2-quartos-piedade-rio-de-janeiro', 'https://www.quintoandar.com.br/imovel/894336588/comprar/casa-2-quartos-tanque-rio-de-janeiro', 'https://www.quintoandar.com.br/imovel/893918981/comprar/casa-4-quartos-encantado-rio-de-janeiro', 'https://www.quintoandar.com.br/imovel/894409213/comprar/apartamento-2-quartos-itanhanga-rio-de-janeiro', 'https://www.quintoandar.com.br/imovel/894390741/comprar/apartamento-3-quartos-pechincha-rio-de-janeiro', 'https://www.quintoandar.com.br/imovel/893263680/comprar/apartamento-3-quartos-jardim-guanabara-rio-de-janeiro', 'https://www.quintoandar.com.br/imovel/894481254/comprar/casa-2-quartos-taquara-rio-de-janeiro', 'https://www.quintoandar.com.br/imovel/893939736/comprar/casa-4-quartos-vila-isabel-rio-de-janeiro']\n"
     ]
    }
   ],
   "source": [
    "lista_links = []\n",
    "\n",
    "def extrair_links(soup):\n",
    "    linked = soup.find_all(\"a\", class_='sc-1d0oyoa-0 bfDoiv')\n",
    "    return [link.get('href') for link in linked]\n",
    "\n",
    "url = f'https://www.quintoandar.com.br/comprar/imovel/rio-de-janeiro-rj-brasil'\n",
    "\n",
    "driver = webdriver.Chrome()\n",
    "chrome_options = Options()\n",
    "chrome_options.add_argument('--headless')\n",
    "\n",
    "driver = webdriver.Chrome(options=chrome_options)\n",
    "\n",
    "try:\n",
    "    driver.get(url)\n",
    "    wait = WebDriverWait(driver, 2)\n",
    "    for i in range(5):\n",
    "        try:\n",
    "            ver_mais_button = wait.until(EC.element_to_be_clickable((By.XPATH, '//button[text()=\"Ver mais\"]')))\n",
    "            ver_mais_button.click()\n",
    "            time.sleep(2)\n",
    "        except:\n",
    "            break\n",
    "    final_html = driver.page_source\n",
    "    soup_final = BeautifulSoup(final_html, 'html.parser')\n",
    "    lista_links = extrair_links(soup_final)\n",
    "\n",
    "finally:\n",
    "    driver.quit()\n",
    "\n",
    "print(lista_links)"
   ],
   "metadata": {
    "collapsed": false,
    "ExecuteTime": {
     "end_time": "2024-05-06T21:22:33.315854800Z",
     "start_time": "2024-05-06T21:22:00.756084600Z"
    }
   }
  },
  {
   "cell_type": "markdown",
   "source": [
    "Criando as listas em que os dados serão armazenados."
   ],
   "metadata": {
    "collapsed": false
   }
  },
  {
   "cell_type": "code",
   "execution_count": 30,
   "outputs": [],
   "source": [
    "lista_preços = []\n",
    "lista_elem = []\n",
    "lista_item = []\n",
    "lista_condominio = []\n",
    "lista_id = []\n",
    "lista_iptus = []\n",
    "lista_endereço1 = []\n",
    "lista_endereço2 = []\n",
    "lista_tempos = []\n",
    "lista_tempos_dias = []\n",
    "lista_tipos = []"
   ],
   "metadata": {
    "collapsed": false,
    "ExecuteTime": {
     "end_time": "2024-05-06T21:22:33.372429100Z",
     "start_time": "2024-05-06T21:22:33.319961700Z"
    }
   }
  },
  {
   "cell_type": "markdown",
   "source": [
    "Criando as funções que serão utilizadas."
   ],
   "metadata": {
    "collapsed": false
   }
  },
  {
   "cell_type": "code",
   "execution_count": 31,
   "outputs": [],
   "source": [
    "def id(soup):\n",
    "    buscando = soup.find_all('a',{'aria-current': 'page'})\n",
    "    for encontrado in buscando:\n",
    "        id = encontrado.find('span', class_ = 'CozyTypography xih2fc Bm9DLt _1tBHcU')\n",
    "        if id:\n",
    "            lista_id.append(id.text.strip().replace(\"Imóvel\",\"\"))\n",
    "        else:\n",
    "            lista_id.append(\"Not Informed\")\n",
    "    return lista_id\n",
    "\n",
    "def tipo(soup):\n",
    "    buscando = soup.find_all('h1', class_ = 'CozyTypography xih2fc EKXjIf wIyEP2 _8JKqPG r4Q8xM')\n",
    "    for encontrado in buscando:\n",
    "        cleaning = encontrado.text.split()\n",
    "        lista_tipos.append(cleaning[0] if cleaning else \"Not Informed\")\n",
    "    return lista_tipos\n",
    "\n",
    "def precos(soup):\n",
    "    buscando = soup.find(\"p\", class_='CozyTypography xih2fc wIyEP2 _8JKqPG r4Q8xM')\n",
    "    if buscando:\n",
    "        for elem in buscando:\n",
    "            cleaning = elem.text.strip().replace(\"\\xa0\",\"\")\n",
    "            lista_preços.append(cleaning.replace(\"R$\",''))\n",
    "    else:\n",
    "        lista_preços.append(\"Not Informed\")\n",
    "    return lista_preços\n",
    "\n",
    "def enderecos_pt1(soup):\n",
    "    buscando = soup.find_all(\"small\", class_='CozyTypography xih2fc pwAPLE')\n",
    "    for endereço in buscando:\n",
    "        lista_endereço1.append(endereço.text.strip().replace(\"\\xa0\",\"\"))\n",
    "    return lista_endereço1\n",
    "\n",
    "def enderecos_pt2(soup):\n",
    "        buscando = soup.find(\"h4\", class_='CozyTypography xih2fc EqjlRj')\n",
    "        if buscando:\n",
    "                lista_endereço2.append(buscando.text.strip())\n",
    "        else:\n",
    "                lista_endereço2.append(\"Not Informed\")\n",
    "        return lista_endereço2\n",
    "\n",
    "def elementos_base(soup):\n",
    "        cont = 0\n",
    "        elemexists = soup.find_all(\"p\", class_ = \"CozyTypography xih2fc EKXjIf Ci-jp3\")\n",
    "        if elemexists:\n",
    "            for elem_end in elemexists:\n",
    "                if cont == 7:\n",
    "                    break\n",
    "                else:\n",
    "                    lista_elem.append(elem_end.text.strip().replace(\"\\xa0\",\"\"))\n",
    "                    cont = cont + 1\n",
    "        else:\n",
    "            for i in range(7):\n",
    "                lista_elem.append(\"Not Informed\")\n",
    "        return lista_elem\n",
    "\n",
    "def itens(soup):\n",
    "    sublist = []\n",
    "    item = soup.find_all(\"div\", class_='MuiBox-root mui-117mro9')\n",
    "    if item:\n",
    "        for elem in item:\n",
    "            exists = elem.find_all(\"p\", class_ = 'CozyTypography xih2fc Ci-jp3 p4uM-0')\n",
    "            if exists:\n",
    "                for elemnow in exists:\n",
    "                    sublist.append(elemnow.text.strip().replace(\"\\xa0\",\"\"))\n",
    "    else:\n",
    "        sublist.append(\"Not Informed\")\n",
    "    cleaning = ', '.join(sublist)\n",
    "    return cleaning\n",
    "\n",
    "def condominio(soup):\n",
    "    buscando = soup.find('span', class_ = 'CozyTypography sc-1jl0yev-0 cTsiPw xih2fc _72Hu5c Ci-jp3')\n",
    "    if buscando:\n",
    "        for custocondominio in buscando:\n",
    "            cleaning = custocondominio.text.strip().replace('\\xa0','')\n",
    "            lista_condominio.append(cleaning.replace(\"R$\",\"\"))\n",
    "    else:\n",
    "        lista_condominio.append(\"Not Informed\")\n",
    "    return lista_condominio\n",
    "\n",
    "def iptu(soup):\n",
    "    buscando = soup.find_all('span', class_=\"CozyTypography sc-1jl0yev-0 cTsiPw xih2fc _72Hu5c Ci-jp3\")\n",
    "    if buscando:\n",
    "        for i in range(1, len(buscando), 2):\n",
    "            iptu_text = buscando[i].text\n",
    "            cleaned = iptu_text.replace(\"R$\", \"\").replace(\"\\xa0\", \"\")\n",
    "            cleaned1 = cleaned.replace(\"12x \",\"\")\n",
    "            lista_iptus.append(cleaned1)\n",
    "    else:\n",
    "        lista_iptus.append(\"Not Informed\")\n",
    "    return lista_iptus\n",
    "\n",
    "def tempo(soup):\n",
    "    buscando = soup.find('small',class_ = 'CozyTypography xih2fc Bm9DLt _72Hu5c _1tBHcU')\n",
    "    if buscando:\n",
    "        lista_tempos.append(buscando.text.strip())\n",
    "    else:\n",
    "        lista_tempos.append(\"Not Informed\")\n",
    "    return lista_tempos\n",
    "\n",
    "def converte_dias(lista_tempos):\n",
    "    for elem in lista_tempos:\n",
    "        divisão = elem.split()\n",
    "        if elem == \"Not Informed\":\n",
    "            lista_tempos_dias.append(\"Not Informed\")\n",
    "        elif divisão[3] == 'mês' or divisão[3] == 'meses':\n",
    "            lista_tempos_dias.append(int(divisão[2]) * 30)\n",
    "        elif divisão[3] == 'horas' or divisão[3] == 'hora':\n",
    "            lista_tempos_dias.append(round(int(divisão[2])/24,2))\n",
    "        elif divisão[3] == 'dias' or divisão[3] == 'dia':\n",
    "            lista_tempos_dias.append(int(divisão[2]))\n",
    "        else:\n",
    "            lista_tempos_dias.append(int(divisão[4])*365)\n",
    "    return lista_tempos_dias"
   ],
   "metadata": {
    "collapsed": false,
    "ExecuteTime": {
     "end_time": "2024-05-06T21:22:33.384222200Z",
     "start_time": "2024-05-06T21:22:33.347319100Z"
    }
   }
  },
  {
   "cell_type": "markdown",
   "source": [
    "Iterando pela lista de links obtidos, e aplicando as funções mencionadas acima."
   ],
   "metadata": {
    "collapsed": false
   }
  },
  {
   "cell_type": "code",
   "execution_count": 32,
   "outputs": [],
   "source": [
    "for links in lista_links:\n",
    "    response = requests.get(links)\n",
    "    html_content = response.content\n",
    "    soup = BeautifulSoup(html_content, 'html.parser')\n",
    "    iptu(soup)\n",
    "    id(soup)\n",
    "    precos(soup)\n",
    "    condominio(soup)\n",
    "    elementos_base(soup)\n",
    "    enderecos_pt1(soup)\n",
    "    enderecos_pt2(soup)\n",
    "    lista_item.append(itens(soup))\n",
    "    tempo(soup)\n",
    "    tipo(soup)"
   ],
   "metadata": {
    "collapsed": false,
    "ExecuteTime": {
     "end_time": "2024-05-06T21:23:19.654540900Z",
     "start_time": "2024-05-06T21:22:33.372429100Z"
    }
   }
  },
  {
   "cell_type": "markdown",
   "source": [
    "Populando mais listas derivadas da outra lista \"Lista_Elem\", que foi preparada de modo que, a cada 7 elementos\n",
    "fosse relacionada à um novo link, além disso, também convertendo os \"meses\", \"anos\", \"horas para \"dias\"."
   ],
   "metadata": {
    "collapsed": false
   }
  },
  {
   "cell_type": "code",
   "execution_count": null,
   "outputs": [],
   "source": [
    "quartos = []\n",
    "tamanho = []\n",
    "metro = []\n",
    "vagas = []\n",
    "banheiros = []\n",
    "andar = []\n",
    "mobilia = []\n",
    "\n",
    "for i in range(len(lista_elem)):\n",
    "    if i % 7 == 0:\n",
    "        quartos.append(lista_elem[i][0])\n",
    "    elif i % 7 == 1:\n",
    "        tamanho.append(lista_elem[i].replace(\"m²\",''))\n",
    "    elif i % 7 == 2:\n",
    "        metro.append(lista_elem[i])\n",
    "    elif i % 7 == 3:\n",
    "        vagas.append(lista_elem[i][0])\n",
    "    elif i % 7 == 4:\n",
    "        banheiros.append(lista_elem[i][0])\n",
    "    elif i % 7 == 5:\n",
    "        andar.append(lista_elem[i])\n",
    "    elif i % 7 == 6:\n",
    "        mobilia.append(lista_elem[i])\n",
    "\n",
    "converte_dias(lista_tempos)\n"
   ],
   "metadata": {
    "collapsed": false
   }
  },
  {
   "cell_type": "markdown",
   "source": [
    "Primeiro dataset com informações GERAIS."
   ],
   "metadata": {
    "collapsed": false
   }
  },
  {
   "cell_type": "code",
   "execution_count": 34,
   "outputs": [
    {
     "data": {
      "text/plain": "          ID         Tipo                                          Descrição  \\\n0    1781185  Apartamento  Box, Varanda, Armários embutidos no quarto, Ar...   \n1     453438  Apartamento  Box, Armários embutidos no quarto, Armários na...   \n2    1762586         Casa  Box, Varanda, Armários nos banheiros, Armários...   \n3    1027119  Apartamento  Piscina privativa, Quartos e corredores com po...   \n4     939865  Apartamento  Piscina privativa, Chuveiro a gás, Quartos e c...   \n..       ...          ...                                                ...   \n67   1709213  Apartamento  Box, Varanda, Armários embutidos no quarto, Ar...   \n68   1690741  Apartamento  Box, Varanda, Armários embutidos no quarto, Ar...   \n69    563680  Apartamento                      Box, Quintal, Área de serviço   \n70   1781254         Casa  Varanda, Armários embutidos no quarto, Armário...   \n71   1239736         Casa  Box, Armários embutidos no quarto, Armários no...   \n\n                              Bairro                     Logradouro  \\\n0              Méier, Rio de Janeiro                Rua Hermengarda   \n1       Rio Comprido, Rio de Janeiro                   Rua do Bispo   \n2             Tanque, Rio de Janeiro             Estrada da Covanca   \n3             Tanque, Rio de Janeiro              Rua Manuel Vieira   \n4        Vila Isabel, Rio de Janeiro               Rua Luís Barbosa   \n..                               ...                            ...   \n67         Itanhangá, Rio de Janeiro  Avenida São Josemaria Escrivá   \n68         Pechincha, Rio de Janeiro        Rua Retiro dos Artistas   \n69  Jardim Guanabara, Rio de Janeiro                   Rua Marapeta   \n70           Taquara, Rio de Janeiro                Rua André Rocha   \n71       Vila Isabel, Rio de Janeiro       Boulevard 28 de Setembro   \n\n   Publicação(Dias)  \n0              0.25  \n1              0.04  \n2                 1  \n3                 4  \n4                 5  \n..              ...  \n67               60  \n68               60  \n69               60  \n70                2  \n71               30  \n\n[72 rows x 6 columns]",
      "text/html": "<div>\n<style scoped>\n    .dataframe tbody tr th:only-of-type {\n        vertical-align: middle;\n    }\n\n    .dataframe tbody tr th {\n        vertical-align: top;\n    }\n\n    .dataframe thead th {\n        text-align: right;\n    }\n</style>\n<table border=\"1\" class=\"dataframe\">\n  <thead>\n    <tr style=\"text-align: right;\">\n      <th></th>\n      <th>ID</th>\n      <th>Tipo</th>\n      <th>Descrição</th>\n      <th>Bairro</th>\n      <th>Logradouro</th>\n      <th>Publicação(Dias)</th>\n    </tr>\n  </thead>\n  <tbody>\n    <tr>\n      <th>0</th>\n      <td>1781185</td>\n      <td>Apartamento</td>\n      <td>Box, Varanda, Armários embutidos no quarto, Ar...</td>\n      <td>Méier, Rio de Janeiro</td>\n      <td>Rua Hermengarda</td>\n      <td>0.25</td>\n    </tr>\n    <tr>\n      <th>1</th>\n      <td>453438</td>\n      <td>Apartamento</td>\n      <td>Box, Armários embutidos no quarto, Armários na...</td>\n      <td>Rio Comprido, Rio de Janeiro</td>\n      <td>Rua do Bispo</td>\n      <td>0.04</td>\n    </tr>\n    <tr>\n      <th>2</th>\n      <td>1762586</td>\n      <td>Casa</td>\n      <td>Box, Varanda, Armários nos banheiros, Armários...</td>\n      <td>Tanque, Rio de Janeiro</td>\n      <td>Estrada da Covanca</td>\n      <td>1</td>\n    </tr>\n    <tr>\n      <th>3</th>\n      <td>1027119</td>\n      <td>Apartamento</td>\n      <td>Piscina privativa, Quartos e corredores com po...</td>\n      <td>Tanque, Rio de Janeiro</td>\n      <td>Rua Manuel Vieira</td>\n      <td>4</td>\n    </tr>\n    <tr>\n      <th>4</th>\n      <td>939865</td>\n      <td>Apartamento</td>\n      <td>Piscina privativa, Chuveiro a gás, Quartos e c...</td>\n      <td>Vila Isabel, Rio de Janeiro</td>\n      <td>Rua Luís Barbosa</td>\n      <td>5</td>\n    </tr>\n    <tr>\n      <th>...</th>\n      <td>...</td>\n      <td>...</td>\n      <td>...</td>\n      <td>...</td>\n      <td>...</td>\n      <td>...</td>\n    </tr>\n    <tr>\n      <th>67</th>\n      <td>1709213</td>\n      <td>Apartamento</td>\n      <td>Box, Varanda, Armários embutidos no quarto, Ar...</td>\n      <td>Itanhangá, Rio de Janeiro</td>\n      <td>Avenida São Josemaria Escrivá</td>\n      <td>60</td>\n    </tr>\n    <tr>\n      <th>68</th>\n      <td>1690741</td>\n      <td>Apartamento</td>\n      <td>Box, Varanda, Armários embutidos no quarto, Ar...</td>\n      <td>Pechincha, Rio de Janeiro</td>\n      <td>Rua Retiro dos Artistas</td>\n      <td>60</td>\n    </tr>\n    <tr>\n      <th>69</th>\n      <td>563680</td>\n      <td>Apartamento</td>\n      <td>Box, Quintal, Área de serviço</td>\n      <td>Jardim Guanabara, Rio de Janeiro</td>\n      <td>Rua Marapeta</td>\n      <td>60</td>\n    </tr>\n    <tr>\n      <th>70</th>\n      <td>1781254</td>\n      <td>Casa</td>\n      <td>Varanda, Armários embutidos no quarto, Armário...</td>\n      <td>Taquara, Rio de Janeiro</td>\n      <td>Rua André Rocha</td>\n      <td>2</td>\n    </tr>\n    <tr>\n      <th>71</th>\n      <td>1239736</td>\n      <td>Casa</td>\n      <td>Box, Armários embutidos no quarto, Armários no...</td>\n      <td>Vila Isabel, Rio de Janeiro</td>\n      <td>Boulevard 28 de Setembro</td>\n      <td>30</td>\n    </tr>\n  </tbody>\n</table>\n<p>72 rows × 6 columns</p>\n</div>"
     },
     "execution_count": 34,
     "metadata": {},
     "output_type": "execute_result"
    }
   ],
   "source": [
    "descrição_imovel = {\n",
    "    'ID': lista_id,\n",
    "    'Tipo' : lista_tipos,\n",
    "    'Descrição': lista_item,\n",
    "    'Bairro' : lista_endereço1,\n",
    "    'Logradouro' : lista_endereço2,\n",
    "    'Publicação(Dias)' : lista_tempos_dias\n",
    "}\n",
    "\n",
    "df = pd.DataFrame(descrição_imovel)\n",
    "df"
   ],
   "metadata": {
    "collapsed": false,
    "ExecuteTime": {
     "end_time": "2024-05-06T21:23:19.730243500Z",
     "start_time": "2024-05-06T21:23:19.673782800Z"
    }
   }
  },
  {
   "cell_type": "markdown",
   "source": [
    " Segundo dataset com informações de VALORES"
   ],
   "metadata": {
    "collapsed": false
   }
  },
  {
   "cell_type": "code",
   "execution_count": 35,
   "outputs": [
    {
     "data": {
      "text/plain": "          ID    Preço Condomínio IPTU\n0    1781185  215.000        724   57\n1     453438  360.000        750    0\n2    1762586  450.000         70    0\n3    1027119  150.000        450    0\n4     939865  190.000        275    0\n..       ...      ...        ...  ...\n67   1709213  160.000        900   27\n68   1690741  170.000        795    6\n69    563680  410.000        600  241\n70   1781254  250.000          0    0\n71   1239736  650.000        160  159\n\n[72 rows x 4 columns]",
      "text/html": "<div>\n<style scoped>\n    .dataframe tbody tr th:only-of-type {\n        vertical-align: middle;\n    }\n\n    .dataframe tbody tr th {\n        vertical-align: top;\n    }\n\n    .dataframe thead th {\n        text-align: right;\n    }\n</style>\n<table border=\"1\" class=\"dataframe\">\n  <thead>\n    <tr style=\"text-align: right;\">\n      <th></th>\n      <th>ID</th>\n      <th>Preço</th>\n      <th>Condomínio</th>\n      <th>IPTU</th>\n    </tr>\n  </thead>\n  <tbody>\n    <tr>\n      <th>0</th>\n      <td>1781185</td>\n      <td>215.000</td>\n      <td>724</td>\n      <td>57</td>\n    </tr>\n    <tr>\n      <th>1</th>\n      <td>453438</td>\n      <td>360.000</td>\n      <td>750</td>\n      <td>0</td>\n    </tr>\n    <tr>\n      <th>2</th>\n      <td>1762586</td>\n      <td>450.000</td>\n      <td>70</td>\n      <td>0</td>\n    </tr>\n    <tr>\n      <th>3</th>\n      <td>1027119</td>\n      <td>150.000</td>\n      <td>450</td>\n      <td>0</td>\n    </tr>\n    <tr>\n      <th>4</th>\n      <td>939865</td>\n      <td>190.000</td>\n      <td>275</td>\n      <td>0</td>\n    </tr>\n    <tr>\n      <th>...</th>\n      <td>...</td>\n      <td>...</td>\n      <td>...</td>\n      <td>...</td>\n    </tr>\n    <tr>\n      <th>67</th>\n      <td>1709213</td>\n      <td>160.000</td>\n      <td>900</td>\n      <td>27</td>\n    </tr>\n    <tr>\n      <th>68</th>\n      <td>1690741</td>\n      <td>170.000</td>\n      <td>795</td>\n      <td>6</td>\n    </tr>\n    <tr>\n      <th>69</th>\n      <td>563680</td>\n      <td>410.000</td>\n      <td>600</td>\n      <td>241</td>\n    </tr>\n    <tr>\n      <th>70</th>\n      <td>1781254</td>\n      <td>250.000</td>\n      <td>0</td>\n      <td>0</td>\n    </tr>\n    <tr>\n      <th>71</th>\n      <td>1239736</td>\n      <td>650.000</td>\n      <td>160</td>\n      <td>159</td>\n    </tr>\n  </tbody>\n</table>\n<p>72 rows × 4 columns</p>\n</div>"
     },
     "execution_count": 35,
     "metadata": {},
     "output_type": "execute_result"
    }
   ],
   "source": [
    "descrição_valores = {\n",
    "    'ID': lista_id,\n",
    "    'Preço' : lista_preços,\n",
    "    'Condomínio' : lista_condominio,\n",
    "    'IPTU' : lista_iptus,\n",
    "}\n",
    "df1 = pd.DataFrame(descrição_valores)\n",
    "df1"
   ],
   "metadata": {
    "collapsed": false,
    "ExecuteTime": {
     "end_time": "2024-05-06T21:23:19.735803100Z",
     "start_time": "2024-05-06T21:23:19.704417500Z"
    }
   }
  },
  {
   "cell_type": "markdown",
   "source": [
    "Terceiro dataset com informações INTERNAS"
   ],
   "metadata": {
    "collapsed": false
   }
  },
  {
   "cell_type": "code",
   "execution_count": 36,
   "outputs": [
    {
     "data": {
      "text/plain": "          ID Quartos  Área Proximidade com Mêtro Vagas Banheiros  \\\n0    1781185       2   53         Próx. ao metrô     1         1   \n1     453438       1   51         Próx. ao metrô     1         1   \n2    1762586       4  450        Sem metrô próx.     2         4   \n3    1027119       2   55        Sem metrô próx.     1         1   \n4     939865       2   78        Sem metrô próx.     -         1   \n..       ...     ...   ...                   ...   ...       ...   \n67   1709213       2   53        Sem metrô próx.     1         1   \n68   1690741       3   70        Sem metrô próx.     1         2   \n69    563680       3  140        Sem metrô próx.     2         3   \n70   1781254       2   60        Sem metrô próx.     1         1   \n71   1239736       4  210        Sem metrô próx.     1         3   \n\n            Andares   Mobiliagem  \n0      Até 3° andar  Sem mobília  \n1    8° a 11° andar    Mobiliado  \n2                 -  Sem mobília  \n3      Até 3° andar  Sem mobília  \n4      Até 3° andar  Sem mobília  \n..              ...          ...  \n67  12° a 15° andar  Sem mobília  \n68    4° a 7° andar  Sem mobília  \n69     Até 3° andar  Sem mobília  \n70                -    Mobiliado  \n71                -  Sem mobília  \n\n[72 rows x 8 columns]",
      "text/html": "<div>\n<style scoped>\n    .dataframe tbody tr th:only-of-type {\n        vertical-align: middle;\n    }\n\n    .dataframe tbody tr th {\n        vertical-align: top;\n    }\n\n    .dataframe thead th {\n        text-align: right;\n    }\n</style>\n<table border=\"1\" class=\"dataframe\">\n  <thead>\n    <tr style=\"text-align: right;\">\n      <th></th>\n      <th>ID</th>\n      <th>Quartos</th>\n      <th>Área</th>\n      <th>Proximidade com Mêtro</th>\n      <th>Vagas</th>\n      <th>Banheiros</th>\n      <th>Andares</th>\n      <th>Mobiliagem</th>\n    </tr>\n  </thead>\n  <tbody>\n    <tr>\n      <th>0</th>\n      <td>1781185</td>\n      <td>2</td>\n      <td>53</td>\n      <td>Próx. ao metrô</td>\n      <td>1</td>\n      <td>1</td>\n      <td>Até 3° andar</td>\n      <td>Sem mobília</td>\n    </tr>\n    <tr>\n      <th>1</th>\n      <td>453438</td>\n      <td>1</td>\n      <td>51</td>\n      <td>Próx. ao metrô</td>\n      <td>1</td>\n      <td>1</td>\n      <td>8° a 11° andar</td>\n      <td>Mobiliado</td>\n    </tr>\n    <tr>\n      <th>2</th>\n      <td>1762586</td>\n      <td>4</td>\n      <td>450</td>\n      <td>Sem metrô próx.</td>\n      <td>2</td>\n      <td>4</td>\n      <td>-</td>\n      <td>Sem mobília</td>\n    </tr>\n    <tr>\n      <th>3</th>\n      <td>1027119</td>\n      <td>2</td>\n      <td>55</td>\n      <td>Sem metrô próx.</td>\n      <td>1</td>\n      <td>1</td>\n      <td>Até 3° andar</td>\n      <td>Sem mobília</td>\n    </tr>\n    <tr>\n      <th>4</th>\n      <td>939865</td>\n      <td>2</td>\n      <td>78</td>\n      <td>Sem metrô próx.</td>\n      <td>-</td>\n      <td>1</td>\n      <td>Até 3° andar</td>\n      <td>Sem mobília</td>\n    </tr>\n    <tr>\n      <th>...</th>\n      <td>...</td>\n      <td>...</td>\n      <td>...</td>\n      <td>...</td>\n      <td>...</td>\n      <td>...</td>\n      <td>...</td>\n      <td>...</td>\n    </tr>\n    <tr>\n      <th>67</th>\n      <td>1709213</td>\n      <td>2</td>\n      <td>53</td>\n      <td>Sem metrô próx.</td>\n      <td>1</td>\n      <td>1</td>\n      <td>12° a 15° andar</td>\n      <td>Sem mobília</td>\n    </tr>\n    <tr>\n      <th>68</th>\n      <td>1690741</td>\n      <td>3</td>\n      <td>70</td>\n      <td>Sem metrô próx.</td>\n      <td>1</td>\n      <td>2</td>\n      <td>4° a 7° andar</td>\n      <td>Sem mobília</td>\n    </tr>\n    <tr>\n      <th>69</th>\n      <td>563680</td>\n      <td>3</td>\n      <td>140</td>\n      <td>Sem metrô próx.</td>\n      <td>2</td>\n      <td>3</td>\n      <td>Até 3° andar</td>\n      <td>Sem mobília</td>\n    </tr>\n    <tr>\n      <th>70</th>\n      <td>1781254</td>\n      <td>2</td>\n      <td>60</td>\n      <td>Sem metrô próx.</td>\n      <td>1</td>\n      <td>1</td>\n      <td>-</td>\n      <td>Mobiliado</td>\n    </tr>\n    <tr>\n      <th>71</th>\n      <td>1239736</td>\n      <td>4</td>\n      <td>210</td>\n      <td>Sem metrô próx.</td>\n      <td>1</td>\n      <td>3</td>\n      <td>-</td>\n      <td>Sem mobília</td>\n    </tr>\n  </tbody>\n</table>\n<p>72 rows × 8 columns</p>\n</div>"
     },
     "execution_count": 36,
     "metadata": {},
     "output_type": "execute_result"
    }
   ],
   "source": [
    "descrição_especificas = {\n",
    "    'ID': lista_id,\n",
    "    'Quartos': quartos,\n",
    "    'Área': tamanho,\n",
    "    'Proximidade com Mêtro': metro,\n",
    "    'Vagas': vagas,\n",
    "    'Banheiros': banheiros,\n",
    "    'Andares': andar,\n",
    "    'Mobiliagem': mobilia\n",
    "}\n",
    "\n",
    "df2 = pd.DataFrame(descrição_especificas)\n",
    "df2"
   ],
   "metadata": {
    "collapsed": false,
    "ExecuteTime": {
     "end_time": "2024-05-06T21:23:19.751328600Z",
     "start_time": "2024-05-06T21:23:19.731257600Z"
    }
   }
  }
 ],
 "metadata": {
  "kernelspec": {
   "display_name": "Python 3",
   "language": "python",
   "name": "python3"
  },
  "language_info": {
   "codemirror_mode": {
    "name": "ipython",
    "version": 2
   },
   "file_extension": ".py",
   "mimetype": "text/x-python",
   "name": "python",
   "nbconvert_exporter": "python",
   "pygments_lexer": "ipython2",
   "version": "2.7.6"
  }
 },
 "nbformat": 4,
 "nbformat_minor": 0
}
