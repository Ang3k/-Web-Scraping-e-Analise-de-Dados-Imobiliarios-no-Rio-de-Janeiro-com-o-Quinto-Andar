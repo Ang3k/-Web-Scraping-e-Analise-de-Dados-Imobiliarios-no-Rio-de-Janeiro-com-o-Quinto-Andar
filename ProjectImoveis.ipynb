{
 "cells": [
  {
   "cell_type": "markdown",
   "source": [
    "Importando as bibliotecas."
   ],
   "metadata": {
    "collapsed": false
   }
  },
  {
   "cell_type": "code",
   "execution_count": 19,
   "outputs": [],
   "source": [
    "from selenium import webdriver\n",
    "from selenium.webdriver.chrome.options import Options\n",
    "from selenium.webdriver.common.by import By\n",
    "from selenium.webdriver.support.ui import WebDriverWait\n",
    "from selenium.webdriver.support import expected_conditions as EC\n",
    "from bs4 import BeautifulSoup\n",
    "import time\n",
    "import requests\n",
    "import pandas as pd"
   ],
   "metadata": {
    "collapsed": false,
    "ExecuteTime": {
     "end_time": "2024-05-06T21:09:01.179146300Z",
     "start_time": "2024-05-06T21:09:01.121129400Z"
    }
   }
  },
  {
   "cell_type": "markdown",
   "source": [
    "Extração dos links, utilizando BS4 e Selenium."
   ],
   "metadata": {
    "collapsed": false
   }
  },
  {
   "cell_type": "code",
   "execution_count": 20,
   "outputs": [
    {
     "name": "stdout",
     "output_type": "stream",
     "text": [
      "['https://www.quintoandar.com.br/imovel/893143805/comprar/kitnet-1-quarto-centro-rio-de-janeiro', 'https://www.quintoandar.com.br/imovel/894481185/comprar/apartamento-2-quartos-meier-rio-de-janeiro', 'https://www.quintoandar.com.br/imovel/893153438/comprar/apartamento-1-quarto-rio-comprido-rio-de-janeiro', 'https://www.quintoandar.com.br/imovel/894462586/comprar/casa-4-quartos-tanque-rio-de-janeiro', 'https://www.quintoandar.com.br/imovel/893727119/comprar/apartamento-2-quartos-tanque-rio-de-janeiro', 'https://www.quintoandar.com.br/imovel/894479919/comprar/apartamento-2-quartos-estacio-rio-de-janeiro', 'https://www.quintoandar.com.br/imovel/893963229/comprar/casa-4-quartos-piedade-rio-de-janeiro', 'https://www.quintoandar.com.br/imovel/893639865/comprar/apartamento-2-quartos-vila-isabel-rio-de-janeiro', 'https://www.quintoandar.com.br/imovel/894006088/comprar/apartamento-2-quartos-tanque-rio-de-janeiro', 'https://www.quintoandar.com.br/imovel/893769478/comprar/apartamento-3-quartos-jacarepagua-rio-de-janeiro', 'https://www.quintoandar.com.br/imovel/894443612/comprar/casa-3-quartos-tanque-rio-de-janeiro', 'https://www.quintoandar.com.br/imovel/894453856/comprar/apartamento-2-quartos-rio-comprido-rio-de-janeiro', 'https://www.quintoandar.com.br/imovel/894484554/comprar/apartamento-3-quartos-grajau-rio-de-janeiro', 'https://www.quintoandar.com.br/imovel/894479427/comprar/apartamento-2-quartos-sao-cristovao-rio-de-janeiro', 'https://www.quintoandar.com.br/imovel/893515227/comprar/apartamento-2-quartos-andarai-rio-de-janeiro', 'https://www.quintoandar.com.br/imovel/894455194/comprar/apartamento-1-quarto-maracana-rio-de-janeiro', 'https://www.quintoandar.com.br/imovel/894377840/comprar/casa-3-quartos-riachuelo-rio-de-janeiro', 'https://www.quintoandar.com.br/imovel/894395336/comprar/apartamento-2-quartos-estacio-rio-de-janeiro', 'https://www.quintoandar.com.br/imovel/894451419/comprar/apartamento-2-quartos-tijuca-rio-de-janeiro', 'https://www.quintoandar.com.br/imovel/894462209/comprar/casa-3-quartos-tijuca-rio-de-janeiro', 'https://www.quintoandar.com.br/imovel/893287161/comprar/apartamento-2-quartos-higienopolis-rio-de-janeiro', 'https://www.quintoandar.com.br/imovel/893967735/comprar/apartamento-3-quartos-vasco-da-gama-rio-de-janeiro', 'https://www.quintoandar.com.br/imovel/894480585/comprar/apartamento-1-quarto-centro-rio-de-janeiro', 'https://www.quintoandar.com.br/imovel/893243327/comprar/apartamento-2-quartos-taquara-rio-de-janeiro', 'https://www.quintoandar.com.br/imovel/893283328/comprar/apartamento-2-quartos-tijuca-rio-de-janeiro', 'https://www.quintoandar.com.br/imovel/894014880/comprar/casa-3-quartos-sampaio-rio-de-janeiro', 'https://www.quintoandar.com.br/imovel/894405464/comprar/apartamento-2-quartos-grajau-rio-de-janeiro', 'https://www.quintoandar.com.br/imovel/894480969/comprar/apartamento-1-quarto-centro-rio-de-janeiro', 'https://www.quintoandar.com.br/imovel/894010029/comprar/apartamento-2-quartos-cordovil-rio-de-janeiro', 'https://www.quintoandar.com.br/imovel/894442608/comprar/casa-2-quartos-cascadura-rio-de-janeiro', 'https://www.quintoandar.com.br/imovel/894464677/comprar/apartamento-1-quarto-tijuca-rio-de-janeiro', 'https://www.quintoandar.com.br/imovel/894441802/comprar/apartamento-2-quartos-sao-cristovao-rio-de-janeiro', 'https://www.quintoandar.com.br/imovel/894477462/comprar/apartamento-2-quartos-vila-isabel-rio-de-janeiro', 'https://www.quintoandar.com.br/imovel/894474894/comprar/apartamento-1-quarto-barra-da-tijuca-rio-de-janeiro', 'https://www.quintoandar.com.br/imovel/894456233/comprar/apartamento-3-quartos-meier-rio-de-janeiro', 'https://www.quintoandar.com.br/imovel/893185568/comprar/apartamento-3-quartos-tijuca-rio-de-janeiro']\n"
     ]
    }
   ],
   "source": [
    "lista_links = []\n",
    "\n",
    "def extrair_links(soup):\n",
    "    linked = soup.find_all(\"a\", class_='sc-1d0oyoa-0 bfDoiv')\n",
    "    return [link.get('href') for link in linked]\n",
    "\n",
    "url = f'https://www.quintoandar.com.br/comprar/imovel/rio-de-janeiro-rj-brasil'\n",
    "\n",
    "driver = webdriver.Chrome()\n",
    "chrome_options = Options()\n",
    "chrome_options.add_argument('--headless')\n",
    "\n",
    "driver = webdriver.Chrome(options=chrome_options)\n",
    "\n",
    "try:\n",
    "    driver.get(url)\n",
    "    wait = WebDriverWait(driver, 2)\n",
    "    for i in range(2):\n",
    "        try:\n",
    "            ver_mais_button = wait.until(EC.element_to_be_clickable((By.XPATH, '//button[text()=\"Ver mais\"]')))\n",
    "            ver_mais_button.click()\n",
    "            time.sleep(2)  # Ajuste o tempo conforme necessário para o carregamento\n",
    "        except:\n",
    "            break\n",
    "    final_html = driver.page_source\n",
    "    soup_final = BeautifulSoup(final_html, 'html.parser')\n",
    "    lista_links = extrair_links(soup_final)\n",
    "\n",
    "finally:\n",
    "    driver.quit()\n",
    "\n",
    "print(lista_links)"
   ],
   "metadata": {
    "collapsed": false,
    "ExecuteTime": {
     "end_time": "2024-05-06T21:09:23.984429300Z",
     "start_time": "2024-05-06T21:09:01.137021500Z"
    }
   }
  },
  {
   "cell_type": "markdown",
   "source": [
    "Criando as listas em que os dados serão armazenados."
   ],
   "metadata": {
    "collapsed": false
   }
  },
  {
   "cell_type": "code",
   "execution_count": 22,
   "outputs": [],
   "source": [
    "lista_preços = []\n",
    "lista_elem = []\n",
    "lista_item = []\n",
    "lista_condominio = []\n",
    "lista_id = []\n",
    "lista_iptus = []\n",
    "lista_endereço1 = []\n",
    "lista_endereço2 = []\n",
    "lista_tempos = []\n",
    "lista_tempos_dias = []\n",
    "lista_tipos = []"
   ],
   "metadata": {
    "collapsed": false,
    "ExecuteTime": {
     "end_time": "2024-05-06T21:09:24.053372600Z",
     "start_time": "2024-05-06T21:09:24.020186700Z"
    }
   }
  },
  {
   "cell_type": "markdown",
   "source": [
    "Funções que serão utilizadas."
   ],
   "metadata": {
    "collapsed": false
   }
  },
  {
   "cell_type": "code",
   "execution_count": 21,
   "outputs": [],
   "source": [
    "def id(soup):\n",
    "    buscando = soup.find_all('a',{'aria-current': 'page'})\n",
    "    for encontrado in buscando:\n",
    "        id = encontrado.find('span', class_ = 'CozyTypography xih2fc Bm9DLt _1tBHcU')\n",
    "        if id:\n",
    "            lista_id.append(id.text.strip().replace(\"Imóvel\",\"\"))\n",
    "        else:\n",
    "            lista_id.append(\"Not Informed\")\n",
    "    return lista_id\n",
    "\n",
    "def tipo(soup):\n",
    "    buscando = soup.find_all('h1', class_ = 'CozyTypography xih2fc EKXjIf wIyEP2 _8JKqPG r4Q8xM')\n",
    "    for encontrado in buscando:\n",
    "        cleaning = encontrado.text.split()\n",
    "        lista_tipos.append(cleaning[0] if cleaning else \"Not Informed\")\n",
    "    return lista_tipos\n",
    "\n",
    "def precos(soup):\n",
    "    buscando = soup.find(\"p\", class_='CozyTypography xih2fc wIyEP2 _8JKqPG r4Q8xM')\n",
    "    if buscando:\n",
    "        for elem in buscando:\n",
    "            cleaning = elem.text.strip().replace(\"\\xa0\",\"\")\n",
    "            lista_preços.append(cleaning.replace(\"R$\",''))\n",
    "    else:\n",
    "        lista_preços.append(\"Not Informed\")\n",
    "    return lista_preços\n",
    "\n",
    "def enderecos_pt1(soup):\n",
    "    buscando = soup.find_all(\"small\", class_='CozyTypography xih2fc pwAPLE')\n",
    "    for endereço in buscando:\n",
    "        lista_endereço1.append(endereço.text.strip().replace(\"\\xa0\",\"\"))\n",
    "    return lista_endereço1\n",
    "\n",
    "def enderecos_pt2(soup):\n",
    "        buscando = soup.find(\"h4\", class_='CozyTypography xih2fc EqjlRj')\n",
    "        if buscando:\n",
    "                lista_endereço2.append(buscando.text.strip())\n",
    "        else:\n",
    "                lista_endereço2.append(\"Not Informed\")\n",
    "        return lista_endereço2\n",
    "\n",
    "def elementos_base(soup):\n",
    "        cont = 0\n",
    "        elemexists = soup.find_all(\"p\", class_ = \"CozyTypography xih2fc EKXjIf Ci-jp3\")\n",
    "        if elemexists:\n",
    "            for elem_end in elemexists:\n",
    "                if cont == 7:\n",
    "                    break\n",
    "                else:\n",
    "                    lista_elem.append(elem_end.text.strip().replace(\"\\xa0\",\"\"))\n",
    "                    cont = cont + 1\n",
    "        else:\n",
    "            for i in range(7):\n",
    "                lista_elem.append(\"Not Informed\")\n",
    "        return lista_elem\n",
    "\n",
    "def itens(soup):\n",
    "    sublist = []\n",
    "    item = soup.find_all(\"div\", class_='MuiBox-root mui-117mro9')\n",
    "    if item:\n",
    "        for elem in item:\n",
    "            exists = elem.find_all(\"p\", class_ = 'CozyTypography xih2fc Ci-jp3 p4uM-0')\n",
    "            if exists:\n",
    "                for elemnow in exists:\n",
    "                    sublist.append(elemnow.text.strip().replace(\"\\xa0\",\"\"))\n",
    "    else:\n",
    "        sublist.append(\"Not Informed\")\n",
    "    cleaning = ', '.join(sublist)\n",
    "    return cleaning\n",
    "\n",
    "def condominio(soup):\n",
    "    buscando = soup.find('span', class_ = 'CozyTypography sc-1jl0yev-0 cTsiPw xih2fc _72Hu5c Ci-jp3')\n",
    "    if buscando:\n",
    "        for custocondominio in buscando:\n",
    "            cleaning = custocondominio.text.strip().replace('\\xa0','')\n",
    "            lista_condominio.append(cleaning.replace(\"R$\",\"\"))\n",
    "    else:\n",
    "        lista_condominio.append(\"Not Informed\")\n",
    "    return lista_condominio\n",
    "\n",
    "def iptu(soup):\n",
    "    buscando = soup.find_all('span', class_=\"CozyTypography sc-1jl0yev-0 cTsiPw xih2fc _72Hu5c Ci-jp3\")\n",
    "    if buscando:\n",
    "        for i in range(1, len(buscando), 2):\n",
    "            iptu_text = buscando[i].text\n",
    "            cleaned = iptu_text.replace(\"R$\", \"\").replace(\"\\xa0\", \"\")\n",
    "            cleaned1 = cleaned.replace(\"12x \",\"\")\n",
    "            lista_iptus.append(cleaned1)\n",
    "    else:\n",
    "        lista_iptus.append(\"Not Informed\")\n",
    "    return lista_iptus\n",
    "\n",
    "def tempo(soup):\n",
    "    buscando = soup.find('small',class_ = 'CozyTypography xih2fc Bm9DLt _72Hu5c _1tBHcU')\n",
    "    if buscando:\n",
    "        lista_tempos.append(buscando.text.strip())\n",
    "    else:\n",
    "        lista_tempos.append(\"Not Informed\")\n",
    "    return lista_tempos\n",
    "\n",
    "def converte_dias(lista_tempos):\n",
    "    for elem in lista_tempos:\n",
    "        divisão = elem.split()\n",
    "        if elem == \"Not Informed\":\n",
    "            lista_tempos_dias.append(\"Not Informed\")\n",
    "        elif divisão[3] == 'mês' or divisão[3] == 'meses':\n",
    "            lista_tempos_dias.append(int(divisão[2]) * 30)\n",
    "        elif divisão[3] == 'horas' or divisão[3] == 'hora':\n",
    "            lista_tempos_dias.append(round(int(divisão[2])/24,2))\n",
    "        elif divisão[3] == 'dias' or divisão[3] == 'dia':\n",
    "            lista_tempos_dias.append(int(divisão[2]))\n",
    "        else:\n",
    "            lista_tempos_dias.append(int(divisão[4])*365)\n",
    "    return lista_tempos_dias"
   ],
   "metadata": {
    "collapsed": false,
    "ExecuteTime": {
     "end_time": "2024-05-06T21:09:24.041058Z",
     "start_time": "2024-05-06T21:09:23.985431500Z"
    }
   }
  },
  {
   "cell_type": "markdown",
   "source": [
    "Iterando pelos links obtidos e aplicando as funções do arquivo FunctionsProjectQuintoAndar.py"
   ],
   "metadata": {
    "collapsed": false
   }
  },
  {
   "cell_type": "code",
   "execution_count": 23,
   "outputs": [],
   "source": [
    "for links in lista_links:\n",
    "    response = requests.get(links)\n",
    "    html_content = response.content\n",
    "    soup = BeautifulSoup(html_content, 'html.parser')\n",
    "    iptu(soup)\n",
    "    id(soup)\n",
    "    precos(soup)\n",
    "    condominio(soup)\n",
    "    elementos_base(soup)\n",
    "    enderecos_pt1(soup)\n",
    "    enderecos_pt2(soup)\n",
    "    lista_item.append(itens(soup))\n",
    "    tempo(soup)\n",
    "    tipo(soup)"
   ],
   "metadata": {
    "collapsed": false,
    "ExecuteTime": {
     "end_time": "2024-05-06T21:09:45.669939400Z",
     "start_time": "2024-05-06T21:09:24.041058Z"
    }
   }
  },
  {
   "cell_type": "markdown",
   "source": [
    "Populando mais listas derivadas da outra lista \"Lista_Elem\", que foi preparada de modo que, a cada 7 elementos\n",
    "fosse relacionada à um novo link, e também convertendo os \"meses\" para \"dias\" e etc..."
   ],
   "metadata": {
    "collapsed": false
   }
  },
  {
   "cell_type": "code",
   "execution_count": 24,
   "outputs": [
    {
     "data": {
      "text/plain": "[0.04,\n 0.12,\n 0.04,\n 1,\n 4,\n 0.88,\n 150,\n 5,\n 0.25,\n 7,\n 30,\n 27,\n 'Not Informed',\n 3,\n 0.08,\n 27,\n 90,\n 60,\n 30,\n 21,\n 90,\n 150,\n 3,\n 30,\n 6,\n 60,\n 60,\n 1,\n 0.33,\n 28,\n 6,\n 30,\n 7,\n 11,\n 26,\n 2]"
     },
     "execution_count": 24,
     "metadata": {},
     "output_type": "execute_result"
    }
   ],
   "source": [
    "quartos = []\n",
    "tamanho = []\n",
    "metro = []\n",
    "vagas = []\n",
    "banheiros = []\n",
    "andar = []\n",
    "mobilia = []\n",
    "\n",
    "for i in range(len(lista_elem)):\n",
    "    if i % 7 == 0:\n",
    "        quartos.append(lista_elem[i][0])\n",
    "    elif i % 7 == 1:\n",
    "        tamanho.append(lista_elem[i].replace(\"m²\",''))\n",
    "    elif i % 7 == 2:\n",
    "        metro.append(lista_elem[i])\n",
    "    elif i % 7 == 3:\n",
    "        vagas.append(lista_elem[i][0])\n",
    "    elif i % 7 == 4:\n",
    "        banheiros.append(lista_elem[i][0])\n",
    "    elif i % 7 == 5:\n",
    "        andar.append(lista_elem[i])\n",
    "    elif i % 7 == 6:\n",
    "        mobilia.append(lista_elem[i])\n",
    "\n",
    "converte_dias(lista_tempos)\n"
   ],
   "metadata": {
    "collapsed": false,
    "ExecuteTime": {
     "end_time": "2024-05-06T21:09:45.685215Z",
     "start_time": "2024-05-06T21:09:45.669939400Z"
    }
   }
  },
  {
   "cell_type": "markdown",
   "source": [
    "Primeiro dataset com informações GERAIS."
   ],
   "metadata": {
    "collapsed": false
   }
  },
  {
   "cell_type": "code",
   "execution_count": 25,
   "outputs": [
    {
     "data": {
      "text/plain": "          ID         Tipo                                          Descrição  \\\n0     443805       Studio  Box, Armários nos banheiros, Ar condicionado, ...   \n1    1781185  Apartamento  Box, Varanda, Armários embutidos no quarto, Ar...   \n2     453438  Apartamento  Box, Armários embutidos no quarto, Armários na...   \n3    1762586         Casa  Box, Varanda, Armários nos banheiros, Armários...   \n4    1027119  Apartamento  Piscina privativa, Quartos e corredores com po...   \n5    1779919  Apartamento  Box, Armários nos banheiros, Chuveiro a gás, Q...   \n6    1263229         Casa  Box, Varanda, Armários na cozinha, Quintal, So...   \n7     939865  Apartamento  Piscina privativa, Chuveiro a gás, Quartos e c...   \n8    1306088  Apartamento  Box, Varanda, Armários na cozinha, Chuveiro a ...   \n9    1069478  Apartamento  Box, Varanda, Piscina privativa, Armários na c...   \n10   1743612         Casa  Box, Varanda, Armários embutidos no quarto, Ar...   \n11   1753856  Apartamento  Box, Armários embutidos no quarto, Armários na...   \n12    Início  Apartamento                                                      \n13   1779427  Apartamento  Box, Armários embutidos no quarto, Armários no...   \n14    815227  Apartamento  Box, Armários nos banheiros, Chuveiro a gás, B...   \n15   1755194  Apartamento  Box, Varanda, Armários na cozinha, Ar condicio...   \n16   1677840         Casa  Box, Varanda, Armários embutidos no quarto, Ar...   \n17   1695336  Apartamento   Box, Armários nos banheiros, Armários na cozinha   \n18   1751419  Apartamento  Box, Armários embutidos no quarto, Armários no...   \n19   1762209         Casa  Box, Varanda, Armários nos banheiros, Armários...   \n20    587161  Apartamento                  Box, Varanda, Armários na cozinha   \n21   1267735  Apartamento  Box, Chuveiro a gás, Quartos e corredores com ...   \n22   1780585  Apartamento  Box, Armários embutidos no quarto, Armários no...   \n23    543327  Apartamento  Box, Armários embutidos no quarto, Armários no...   \n24    583328  Apartamento  Box, Armários nos banheiros, Armários na cozin...   \n25   1314880         Casa  Box, Varanda, Armários nos banheiros, Armários...   \n26   1705464  Apartamento  Box, Armários embutidos no quarto, Armários no...   \n27   1780969  Apartamento  Box, Armários nos banheiros, Armários na cozin...   \n28   1310029  Apartamento  Box, Armários embutidos no quarto, Armários no...   \n29   1742608         Casa  Box, Armários embutidos no quarto, Armários no...   \n30   1764677  Apartamento  Box, Armários nos banheiros, Armários na cozin...   \n31   1741802  Apartamento  Box, Armários nos banheiros, Quartos e corredo...   \n32   1777462  Apartamento  Banheira de hidromassagem, Varanda, Armários e...   \n33   1774894  Apartamento  Banheira de hidromassagem, Varanda, Armários e...   \n34   1756233  Apartamento  Box, Armários embutidos no quarto, Armários no...   \n35    485568  Apartamento  Banheira de hidromassagem, Box, Varanda, Armár...   \n\n                             Bairro                       Logradouro  \\\n0            Centro, Rio de Janeiro        Rua Imperatriz Leopoldina   \n1             Méier, Rio de Janeiro                  Rua Hermengarda   \n2      Rio Comprido, Rio de Janeiro                     Rua do Bispo   \n3            Tanque, Rio de Janeiro               Estrada da Covanca   \n4            Tanque, Rio de Janeiro                Rua Manuel Vieira   \n5           Estácio, Rio de Janeiro                  Rua Frei Caneca   \n6           Piedade, Rio de Janeiro             Rua Almeida Nogueira   \n7       Vila Isabel, Rio de Janeiro                 Rua Luís Barbosa   \n8            Tanque, Rio de Janeiro         Avenida Geremário Dantas   \n9       Jacarepaguá, Rio de Janeiro             Estrada Bandeirantes   \n10           Tanque, Rio de Janeiro                       Rua Jordão   \n11     Rio Comprido, Rio de Janeiro                Rua Sampaio Viana   \n12                                ,                                    \n13    São Cristóvão, Rio de Janeiro                  Rua Lima Barros   \n14          Andaraí, Rio de Janeiro                      Rua Uruguai   \n15         Maracanã, Rio de Janeiro         Rua São Francisco Xavier   \n16        Riachuelo, Rio de Janeiro                      Rua Ratclif   \n17          Estácio, Rio de Janeiro                  Rua Frei Caneca   \n18           Tijuca, Rio de Janeiro              Rua Conde de Bonfim   \n19           Tijuca, Rio de Janeiro              Rua Conde de Bonfim   \n20     Higienópolis, Rio de Janeiro              Rua Eudoro Berlinck   \n21    Vasco da Gama, Rio de Janeiro                 Rua São Januário   \n22           Centro, Rio de Janeiro               Avenida Rio Branco   \n23          Taquara, Rio de Janeiro                   Estrada Boiuna   \n24           Tijuca, Rio de Janeiro         Rua Desembargador Izidro   \n25          Sampaio, Rio de Janeiro              Rua do Engenho Novo   \n26           Grajaú, Rio de Janeiro                Rua Araújo Leitão   \n27           Centro, Rio de Janeiro                    Rua do Senado   \n28         Cordovil, Rio de Janeiro  Rua Almirante Luís Maria Piquet   \n29        Cascadura, Rio de Janeiro                       Rua Ferraz   \n30           Tijuca, Rio de Janeiro                 Rua General Roca   \n31    São Cristóvão, Rio de Janeiro                    Rua Argentina   \n32      Vila Isabel, Rio de Janeiro         Boulevard 28 de Setembro   \n33  Barra da Tijuca, Rio de Janeiro            Rua Vilhena de Morais   \n34            Méier, Rio de Janeiro                 Rua Dias da Cruz   \n35           Tijuca, Rio de Janeiro              Rua Conde de Bonfim   \n\n   Publicação(Dias)  \n0              0.04  \n1              0.12  \n2              0.04  \n3                 1  \n4                 4  \n5              0.88  \n6               150  \n7                 5  \n8              0.25  \n9                 7  \n10               30  \n11               27  \n12     Not Informed  \n13                3  \n14             0.08  \n15               27  \n16               90  \n17               60  \n18               30  \n19               21  \n20               90  \n21              150  \n22                3  \n23               30  \n24                6  \n25               60  \n26               60  \n27                1  \n28             0.33  \n29               28  \n30                6  \n31               30  \n32                7  \n33               11  \n34               26  \n35                2  ",
      "text/html": "<div>\n<style scoped>\n    .dataframe tbody tr th:only-of-type {\n        vertical-align: middle;\n    }\n\n    .dataframe tbody tr th {\n        vertical-align: top;\n    }\n\n    .dataframe thead th {\n        text-align: right;\n    }\n</style>\n<table border=\"1\" class=\"dataframe\">\n  <thead>\n    <tr style=\"text-align: right;\">\n      <th></th>\n      <th>ID</th>\n      <th>Tipo</th>\n      <th>Descrição</th>\n      <th>Bairro</th>\n      <th>Logradouro</th>\n      <th>Publicação(Dias)</th>\n    </tr>\n  </thead>\n  <tbody>\n    <tr>\n      <th>0</th>\n      <td>443805</td>\n      <td>Studio</td>\n      <td>Box, Armários nos banheiros, Ar condicionado, ...</td>\n      <td>Centro, Rio de Janeiro</td>\n      <td>Rua Imperatriz Leopoldina</td>\n      <td>0.04</td>\n    </tr>\n    <tr>\n      <th>1</th>\n      <td>1781185</td>\n      <td>Apartamento</td>\n      <td>Box, Varanda, Armários embutidos no quarto, Ar...</td>\n      <td>Méier, Rio de Janeiro</td>\n      <td>Rua Hermengarda</td>\n      <td>0.12</td>\n    </tr>\n    <tr>\n      <th>2</th>\n      <td>453438</td>\n      <td>Apartamento</td>\n      <td>Box, Armários embutidos no quarto, Armários na...</td>\n      <td>Rio Comprido, Rio de Janeiro</td>\n      <td>Rua do Bispo</td>\n      <td>0.04</td>\n    </tr>\n    <tr>\n      <th>3</th>\n      <td>1762586</td>\n      <td>Casa</td>\n      <td>Box, Varanda, Armários nos banheiros, Armários...</td>\n      <td>Tanque, Rio de Janeiro</td>\n      <td>Estrada da Covanca</td>\n      <td>1</td>\n    </tr>\n    <tr>\n      <th>4</th>\n      <td>1027119</td>\n      <td>Apartamento</td>\n      <td>Piscina privativa, Quartos e corredores com po...</td>\n      <td>Tanque, Rio de Janeiro</td>\n      <td>Rua Manuel Vieira</td>\n      <td>4</td>\n    </tr>\n    <tr>\n      <th>5</th>\n      <td>1779919</td>\n      <td>Apartamento</td>\n      <td>Box, Armários nos banheiros, Chuveiro a gás, Q...</td>\n      <td>Estácio, Rio de Janeiro</td>\n      <td>Rua Frei Caneca</td>\n      <td>0.88</td>\n    </tr>\n    <tr>\n      <th>6</th>\n      <td>1263229</td>\n      <td>Casa</td>\n      <td>Box, Varanda, Armários na cozinha, Quintal, So...</td>\n      <td>Piedade, Rio de Janeiro</td>\n      <td>Rua Almeida Nogueira</td>\n      <td>150</td>\n    </tr>\n    <tr>\n      <th>7</th>\n      <td>939865</td>\n      <td>Apartamento</td>\n      <td>Piscina privativa, Chuveiro a gás, Quartos e c...</td>\n      <td>Vila Isabel, Rio de Janeiro</td>\n      <td>Rua Luís Barbosa</td>\n      <td>5</td>\n    </tr>\n    <tr>\n      <th>8</th>\n      <td>1306088</td>\n      <td>Apartamento</td>\n      <td>Box, Varanda, Armários na cozinha, Chuveiro a ...</td>\n      <td>Tanque, Rio de Janeiro</td>\n      <td>Avenida Geremário Dantas</td>\n      <td>0.25</td>\n    </tr>\n    <tr>\n      <th>9</th>\n      <td>1069478</td>\n      <td>Apartamento</td>\n      <td>Box, Varanda, Piscina privativa, Armários na c...</td>\n      <td>Jacarepaguá, Rio de Janeiro</td>\n      <td>Estrada Bandeirantes</td>\n      <td>7</td>\n    </tr>\n    <tr>\n      <th>10</th>\n      <td>1743612</td>\n      <td>Casa</td>\n      <td>Box, Varanda, Armários embutidos no quarto, Ar...</td>\n      <td>Tanque, Rio de Janeiro</td>\n      <td>Rua Jordão</td>\n      <td>30</td>\n    </tr>\n    <tr>\n      <th>11</th>\n      <td>1753856</td>\n      <td>Apartamento</td>\n      <td>Box, Armários embutidos no quarto, Armários na...</td>\n      <td>Rio Comprido, Rio de Janeiro</td>\n      <td>Rua Sampaio Viana</td>\n      <td>27</td>\n    </tr>\n    <tr>\n      <th>12</th>\n      <td>Início</td>\n      <td>Apartamento</td>\n      <td></td>\n      <td>,</td>\n      <td></td>\n      <td>Not Informed</td>\n    </tr>\n    <tr>\n      <th>13</th>\n      <td>1779427</td>\n      <td>Apartamento</td>\n      <td>Box, Armários embutidos no quarto, Armários no...</td>\n      <td>São Cristóvão, Rio de Janeiro</td>\n      <td>Rua Lima Barros</td>\n      <td>3</td>\n    </tr>\n    <tr>\n      <th>14</th>\n      <td>815227</td>\n      <td>Apartamento</td>\n      <td>Box, Armários nos banheiros, Chuveiro a gás, B...</td>\n      <td>Andaraí, Rio de Janeiro</td>\n      <td>Rua Uruguai</td>\n      <td>0.08</td>\n    </tr>\n    <tr>\n      <th>15</th>\n      <td>1755194</td>\n      <td>Apartamento</td>\n      <td>Box, Varanda, Armários na cozinha, Ar condicio...</td>\n      <td>Maracanã, Rio de Janeiro</td>\n      <td>Rua São Francisco Xavier</td>\n      <td>27</td>\n    </tr>\n    <tr>\n      <th>16</th>\n      <td>1677840</td>\n      <td>Casa</td>\n      <td>Box, Varanda, Armários embutidos no quarto, Ar...</td>\n      <td>Riachuelo, Rio de Janeiro</td>\n      <td>Rua Ratclif</td>\n      <td>90</td>\n    </tr>\n    <tr>\n      <th>17</th>\n      <td>1695336</td>\n      <td>Apartamento</td>\n      <td>Box, Armários nos banheiros, Armários na cozinha</td>\n      <td>Estácio, Rio de Janeiro</td>\n      <td>Rua Frei Caneca</td>\n      <td>60</td>\n    </tr>\n    <tr>\n      <th>18</th>\n      <td>1751419</td>\n      <td>Apartamento</td>\n      <td>Box, Armários embutidos no quarto, Armários no...</td>\n      <td>Tijuca, Rio de Janeiro</td>\n      <td>Rua Conde de Bonfim</td>\n      <td>30</td>\n    </tr>\n    <tr>\n      <th>19</th>\n      <td>1762209</td>\n      <td>Casa</td>\n      <td>Box, Varanda, Armários nos banheiros, Armários...</td>\n      <td>Tijuca, Rio de Janeiro</td>\n      <td>Rua Conde de Bonfim</td>\n      <td>21</td>\n    </tr>\n    <tr>\n      <th>20</th>\n      <td>587161</td>\n      <td>Apartamento</td>\n      <td>Box, Varanda, Armários na cozinha</td>\n      <td>Higienópolis, Rio de Janeiro</td>\n      <td>Rua Eudoro Berlinck</td>\n      <td>90</td>\n    </tr>\n    <tr>\n      <th>21</th>\n      <td>1267735</td>\n      <td>Apartamento</td>\n      <td>Box, Chuveiro a gás, Quartos e corredores com ...</td>\n      <td>Vasco da Gama, Rio de Janeiro</td>\n      <td>Rua São Januário</td>\n      <td>150</td>\n    </tr>\n    <tr>\n      <th>22</th>\n      <td>1780585</td>\n      <td>Apartamento</td>\n      <td>Box, Armários embutidos no quarto, Armários no...</td>\n      <td>Centro, Rio de Janeiro</td>\n      <td>Avenida Rio Branco</td>\n      <td>3</td>\n    </tr>\n    <tr>\n      <th>23</th>\n      <td>543327</td>\n      <td>Apartamento</td>\n      <td>Box, Armários embutidos no quarto, Armários no...</td>\n      <td>Taquara, Rio de Janeiro</td>\n      <td>Estrada Boiuna</td>\n      <td>30</td>\n    </tr>\n    <tr>\n      <th>24</th>\n      <td>583328</td>\n      <td>Apartamento</td>\n      <td>Box, Armários nos banheiros, Armários na cozin...</td>\n      <td>Tijuca, Rio de Janeiro</td>\n      <td>Rua Desembargador Izidro</td>\n      <td>6</td>\n    </tr>\n    <tr>\n      <th>25</th>\n      <td>1314880</td>\n      <td>Casa</td>\n      <td>Box, Varanda, Armários nos banheiros, Armários...</td>\n      <td>Sampaio, Rio de Janeiro</td>\n      <td>Rua do Engenho Novo</td>\n      <td>60</td>\n    </tr>\n    <tr>\n      <th>26</th>\n      <td>1705464</td>\n      <td>Apartamento</td>\n      <td>Box, Armários embutidos no quarto, Armários no...</td>\n      <td>Grajaú, Rio de Janeiro</td>\n      <td>Rua Araújo Leitão</td>\n      <td>60</td>\n    </tr>\n    <tr>\n      <th>27</th>\n      <td>1780969</td>\n      <td>Apartamento</td>\n      <td>Box, Armários nos banheiros, Armários na cozin...</td>\n      <td>Centro, Rio de Janeiro</td>\n      <td>Rua do Senado</td>\n      <td>1</td>\n    </tr>\n    <tr>\n      <th>28</th>\n      <td>1310029</td>\n      <td>Apartamento</td>\n      <td>Box, Armários embutidos no quarto, Armários no...</td>\n      <td>Cordovil, Rio de Janeiro</td>\n      <td>Rua Almirante Luís Maria Piquet</td>\n      <td>0.33</td>\n    </tr>\n    <tr>\n      <th>29</th>\n      <td>1742608</td>\n      <td>Casa</td>\n      <td>Box, Armários embutidos no quarto, Armários no...</td>\n      <td>Cascadura, Rio de Janeiro</td>\n      <td>Rua Ferraz</td>\n      <td>28</td>\n    </tr>\n    <tr>\n      <th>30</th>\n      <td>1764677</td>\n      <td>Apartamento</td>\n      <td>Box, Armários nos banheiros, Armários na cozin...</td>\n      <td>Tijuca, Rio de Janeiro</td>\n      <td>Rua General Roca</td>\n      <td>6</td>\n    </tr>\n    <tr>\n      <th>31</th>\n      <td>1741802</td>\n      <td>Apartamento</td>\n      <td>Box, Armários nos banheiros, Quartos e corredo...</td>\n      <td>São Cristóvão, Rio de Janeiro</td>\n      <td>Rua Argentina</td>\n      <td>30</td>\n    </tr>\n    <tr>\n      <th>32</th>\n      <td>1777462</td>\n      <td>Apartamento</td>\n      <td>Banheira de hidromassagem, Varanda, Armários e...</td>\n      <td>Vila Isabel, Rio de Janeiro</td>\n      <td>Boulevard 28 de Setembro</td>\n      <td>7</td>\n    </tr>\n    <tr>\n      <th>33</th>\n      <td>1774894</td>\n      <td>Apartamento</td>\n      <td>Banheira de hidromassagem, Varanda, Armários e...</td>\n      <td>Barra da Tijuca, Rio de Janeiro</td>\n      <td>Rua Vilhena de Morais</td>\n      <td>11</td>\n    </tr>\n    <tr>\n      <th>34</th>\n      <td>1756233</td>\n      <td>Apartamento</td>\n      <td>Box, Armários embutidos no quarto, Armários no...</td>\n      <td>Méier, Rio de Janeiro</td>\n      <td>Rua Dias da Cruz</td>\n      <td>26</td>\n    </tr>\n    <tr>\n      <th>35</th>\n      <td>485568</td>\n      <td>Apartamento</td>\n      <td>Banheira de hidromassagem, Box, Varanda, Armár...</td>\n      <td>Tijuca, Rio de Janeiro</td>\n      <td>Rua Conde de Bonfim</td>\n      <td>2</td>\n    </tr>\n  </tbody>\n</table>\n</div>"
     },
     "execution_count": 25,
     "metadata": {},
     "output_type": "execute_result"
    }
   ],
   "source": [
    "descrição_imovel = {\n",
    "    'ID': lista_id,\n",
    "    'Tipo' : lista_tipos,\n",
    "    'Descrição': lista_item,\n",
    "    'Bairro' : lista_endereço1,\n",
    "    'Logradouro' : lista_endereço2,\n",
    "    'Publicação(Dias)' : lista_tempos_dias\n",
    "}\n",
    "\n",
    "df = pd.DataFrame(descrição_imovel)\n",
    "df"
   ],
   "metadata": {
    "collapsed": false,
    "ExecuteTime": {
     "end_time": "2024-05-06T21:09:45.727774300Z",
     "start_time": "2024-05-06T21:09:45.687204900Z"
    }
   }
  },
  {
   "cell_type": "markdown",
   "source": [
    " Segundo dataset com informações de VALORES"
   ],
   "metadata": {
    "collapsed": false
   }
  },
  {
   "cell_type": "code",
   "execution_count": 26,
   "outputs": [
    {
     "data": {
      "text/plain": "          ID    Preço Condomínio IPTU\n0     443805  150.000        391   59\n1    1781185  215.000        724   57\n2     453438  360.000        750    0\n3    1762586  450.000         70    0\n4    1027119  150.000        450    0\n5    1779919  238.000        250    0\n6    1263229  250.000          0  459\n7     939865  190.000        275    0\n8    1306088  244.000        532    0\n9    1069478  220.000        105   58\n10   1743612  245.000        250    0\n11   1753856  320.000        520   71\n12    Início        0          0    0\n13   1779427  426.000        630   51\n14    815227  490.000        900   92\n15   1755194  190.000        500    0\n16   1677840  649.000          0   88\n17   1695336  170.000        175    0\n18   1751419  360.000      1.237  109\n19   1762209  500.000          0    0\n20    587161  160.000        350    0\n21   1267735  179.000        350   21\n22   1780585  335.000        795   71\n23    543327  205.000        245   44\n24    583328  360.000        999  178\n25   1314880  230.000          0    9\n26   1705464  185.000        850    0\n27   1780969  190.000        500    0\n28   1310029  198.000        320    0\n29   1742608  190.000         50    0\n30   1764677  335.000        790   75\n31   1741802  177.000        615    0\n32   1777462  400.000        250  194\n33   1774894  495.000      1.127  128\n34   1756233  180.000        770   90\n35    485568  580.000        830  113",
      "text/html": "<div>\n<style scoped>\n    .dataframe tbody tr th:only-of-type {\n        vertical-align: middle;\n    }\n\n    .dataframe tbody tr th {\n        vertical-align: top;\n    }\n\n    .dataframe thead th {\n        text-align: right;\n    }\n</style>\n<table border=\"1\" class=\"dataframe\">\n  <thead>\n    <tr style=\"text-align: right;\">\n      <th></th>\n      <th>ID</th>\n      <th>Preço</th>\n      <th>Condomínio</th>\n      <th>IPTU</th>\n    </tr>\n  </thead>\n  <tbody>\n    <tr>\n      <th>0</th>\n      <td>443805</td>\n      <td>150.000</td>\n      <td>391</td>\n      <td>59</td>\n    </tr>\n    <tr>\n      <th>1</th>\n      <td>1781185</td>\n      <td>215.000</td>\n      <td>724</td>\n      <td>57</td>\n    </tr>\n    <tr>\n      <th>2</th>\n      <td>453438</td>\n      <td>360.000</td>\n      <td>750</td>\n      <td>0</td>\n    </tr>\n    <tr>\n      <th>3</th>\n      <td>1762586</td>\n      <td>450.000</td>\n      <td>70</td>\n      <td>0</td>\n    </tr>\n    <tr>\n      <th>4</th>\n      <td>1027119</td>\n      <td>150.000</td>\n      <td>450</td>\n      <td>0</td>\n    </tr>\n    <tr>\n      <th>5</th>\n      <td>1779919</td>\n      <td>238.000</td>\n      <td>250</td>\n      <td>0</td>\n    </tr>\n    <tr>\n      <th>6</th>\n      <td>1263229</td>\n      <td>250.000</td>\n      <td>0</td>\n      <td>459</td>\n    </tr>\n    <tr>\n      <th>7</th>\n      <td>939865</td>\n      <td>190.000</td>\n      <td>275</td>\n      <td>0</td>\n    </tr>\n    <tr>\n      <th>8</th>\n      <td>1306088</td>\n      <td>244.000</td>\n      <td>532</td>\n      <td>0</td>\n    </tr>\n    <tr>\n      <th>9</th>\n      <td>1069478</td>\n      <td>220.000</td>\n      <td>105</td>\n      <td>58</td>\n    </tr>\n    <tr>\n      <th>10</th>\n      <td>1743612</td>\n      <td>245.000</td>\n      <td>250</td>\n      <td>0</td>\n    </tr>\n    <tr>\n      <th>11</th>\n      <td>1753856</td>\n      <td>320.000</td>\n      <td>520</td>\n      <td>71</td>\n    </tr>\n    <tr>\n      <th>12</th>\n      <td>Início</td>\n      <td>0</td>\n      <td>0</td>\n      <td>0</td>\n    </tr>\n    <tr>\n      <th>13</th>\n      <td>1779427</td>\n      <td>426.000</td>\n      <td>630</td>\n      <td>51</td>\n    </tr>\n    <tr>\n      <th>14</th>\n      <td>815227</td>\n      <td>490.000</td>\n      <td>900</td>\n      <td>92</td>\n    </tr>\n    <tr>\n      <th>15</th>\n      <td>1755194</td>\n      <td>190.000</td>\n      <td>500</td>\n      <td>0</td>\n    </tr>\n    <tr>\n      <th>16</th>\n      <td>1677840</td>\n      <td>649.000</td>\n      <td>0</td>\n      <td>88</td>\n    </tr>\n    <tr>\n      <th>17</th>\n      <td>1695336</td>\n      <td>170.000</td>\n      <td>175</td>\n      <td>0</td>\n    </tr>\n    <tr>\n      <th>18</th>\n      <td>1751419</td>\n      <td>360.000</td>\n      <td>1.237</td>\n      <td>109</td>\n    </tr>\n    <tr>\n      <th>19</th>\n      <td>1762209</td>\n      <td>500.000</td>\n      <td>0</td>\n      <td>0</td>\n    </tr>\n    <tr>\n      <th>20</th>\n      <td>587161</td>\n      <td>160.000</td>\n      <td>350</td>\n      <td>0</td>\n    </tr>\n    <tr>\n      <th>21</th>\n      <td>1267735</td>\n      <td>179.000</td>\n      <td>350</td>\n      <td>21</td>\n    </tr>\n    <tr>\n      <th>22</th>\n      <td>1780585</td>\n      <td>335.000</td>\n      <td>795</td>\n      <td>71</td>\n    </tr>\n    <tr>\n      <th>23</th>\n      <td>543327</td>\n      <td>205.000</td>\n      <td>245</td>\n      <td>44</td>\n    </tr>\n    <tr>\n      <th>24</th>\n      <td>583328</td>\n      <td>360.000</td>\n      <td>999</td>\n      <td>178</td>\n    </tr>\n    <tr>\n      <th>25</th>\n      <td>1314880</td>\n      <td>230.000</td>\n      <td>0</td>\n      <td>9</td>\n    </tr>\n    <tr>\n      <th>26</th>\n      <td>1705464</td>\n      <td>185.000</td>\n      <td>850</td>\n      <td>0</td>\n    </tr>\n    <tr>\n      <th>27</th>\n      <td>1780969</td>\n      <td>190.000</td>\n      <td>500</td>\n      <td>0</td>\n    </tr>\n    <tr>\n      <th>28</th>\n      <td>1310029</td>\n      <td>198.000</td>\n      <td>320</td>\n      <td>0</td>\n    </tr>\n    <tr>\n      <th>29</th>\n      <td>1742608</td>\n      <td>190.000</td>\n      <td>50</td>\n      <td>0</td>\n    </tr>\n    <tr>\n      <th>30</th>\n      <td>1764677</td>\n      <td>335.000</td>\n      <td>790</td>\n      <td>75</td>\n    </tr>\n    <tr>\n      <th>31</th>\n      <td>1741802</td>\n      <td>177.000</td>\n      <td>615</td>\n      <td>0</td>\n    </tr>\n    <tr>\n      <th>32</th>\n      <td>1777462</td>\n      <td>400.000</td>\n      <td>250</td>\n      <td>194</td>\n    </tr>\n    <tr>\n      <th>33</th>\n      <td>1774894</td>\n      <td>495.000</td>\n      <td>1.127</td>\n      <td>128</td>\n    </tr>\n    <tr>\n      <th>34</th>\n      <td>1756233</td>\n      <td>180.000</td>\n      <td>770</td>\n      <td>90</td>\n    </tr>\n    <tr>\n      <th>35</th>\n      <td>485568</td>\n      <td>580.000</td>\n      <td>830</td>\n      <td>113</td>\n    </tr>\n  </tbody>\n</table>\n</div>"
     },
     "execution_count": 26,
     "metadata": {},
     "output_type": "execute_result"
    }
   ],
   "source": [
    "descrição_valores = {\n",
    "    'ID': lista_id,\n",
    "    'Preço' : lista_preços,\n",
    "    'Condomínio' : lista_condominio,\n",
    "    'IPTU' : lista_iptus,\n",
    "}\n",
    "df1 = pd.DataFrame(descrição_valores)\n",
    "df1"
   ],
   "metadata": {
    "collapsed": false,
    "ExecuteTime": {
     "end_time": "2024-05-06T21:09:45.737408300Z",
     "start_time": "2024-05-06T21:09:45.708538500Z"
    }
   }
  },
  {
   "cell_type": "markdown",
   "source": [
    "Terceiro dataset com informações INTERNAS"
   ],
   "metadata": {
    "collapsed": false
   }
  },
  {
   "cell_type": "code",
   "execution_count": 27,
   "outputs": [
    {
     "data": {
      "text/plain": "          ID Quartos          Área Proximidade com Mêtro Vagas Banheiros  \\\n0     443805       1           27         Próx. ao metrô     -         1   \n1    1781185       2           53         Próx. ao metrô     1         1   \n2     453438       1           51         Próx. ao metrô     1         1   \n3    1762586       4          450        Sem metrô próx.     2         4   \n4    1027119       2           55        Sem metrô próx.     1         1   \n5    1779919       2           50         Próx. ao metrô     1         1   \n6    1263229       4          441         Próx. ao metrô     3         3   \n7     939865       2           78        Sem metrô próx.     -         1   \n8    1306088       2           50        Sem metrô próx.     1         2   \n9    1069478       3           74        Sem metrô próx.     1         2   \n10   1743612       3           21        Sem metrô próx.     3         4   \n11   1753856       2           92         Próx. ao metrô     2         1   \n12    Início       N  Not Informed          Not Informed     N         N   \n13   1779427       2           45        Sem metrô próx.     1         1   \n14    815227       2           81        Sem metrô próx.     1         1   \n15   1755194       1           56         Próx. ao metrô     1         2   \n16   1677840       3          149         Próx. ao metrô     2         3   \n17   1695336       2           59         Próx. ao metrô     1         1   \n18   1751419       2          100        Sem metrô próx.     1         1   \n19   1762209       3          120         Próx. ao metrô     2         3   \n20    587161       2           70         Próx. ao metrô     -         1   \n21   1267735       3           90        Sem metrô próx.     -         2   \n22   1780585       1           32         Próx. ao metrô     -         1   \n23    543327       2           45        Sem metrô próx.     1         1   \n24    583328       2           86         Próx. ao metrô     -         1   \n25   1314880       3          110         Próx. ao metrô     1         2   \n26   1705464       2           50        Sem metrô próx.     1         1   \n27   1780969       1           32         Próx. ao metrô     -         1   \n28   1310029       2           50         Próx. ao metrô     1         1   \n29   1742608       2           75         Próx. ao metrô     1         1   \n30   1764677       1           55         Próx. ao metrô     -         1   \n31   1741802       2           65        Sem metrô próx.     1         1   \n32   1777462       2          117         Próx. ao metrô     1         2   \n33   1774894       1           60        Sem metrô próx.     1         2   \n34   1756233       3           71        Sem metrô próx.     -         2   \n35    485568       3          117         Próx. ao metrô     -         2   \n\n            Andares    Mobiliagem  \n0      Até 3° andar   Sem mobília  \n1      Até 3° andar   Sem mobília  \n2    8° a 11° andar     Mobiliado  \n3                 -   Sem mobília  \n4      Até 3° andar   Sem mobília  \n5     4° a 7° andar   Sem mobília  \n6                 -   Sem mobília  \n7      Até 3° andar   Sem mobília  \n8    8° a 11° andar   Sem mobília  \n9      Até 3° andar   Sem mobília  \n10                -   Sem mobília  \n11                -   Sem mobília  \n12     Not Informed  Not Informed  \n13   8° a 11° andar     Mobiliado  \n14   8° a 11° andar   Sem mobília  \n15    4° a 7° andar   Sem mobília  \n16                -   Sem mobília  \n17     Até 3° andar   Sem mobília  \n18    4° a 7° andar   Sem mobília  \n19    4° a 7° andar   Sem mobília  \n20    4° a 7° andar   Sem mobília  \n21     Até 3° andar   Sem mobília  \n22  12° a 15° andar     Mobiliado  \n23     Até 3° andar   Sem mobília  \n24   8° a 11° andar   Sem mobília  \n25     Até 3° andar   Sem mobília  \n26  12° a 15° andar   Sem mobília  \n27    4° a 7° andar   Sem mobília  \n28     Até 3° andar     Mobiliado  \n29                -   Sem mobília  \n30     Até 3° andar   Sem mobília  \n31     Até 3° andar   Sem mobília  \n32     Até 3° andar     Mobiliado  \n33    4° a 7° andar     Mobiliado  \n34    4° a 7° andar   Sem mobília  \n35    4° a 7° andar   Sem mobília  ",
      "text/html": "<div>\n<style scoped>\n    .dataframe tbody tr th:only-of-type {\n        vertical-align: middle;\n    }\n\n    .dataframe tbody tr th {\n        vertical-align: top;\n    }\n\n    .dataframe thead th {\n        text-align: right;\n    }\n</style>\n<table border=\"1\" class=\"dataframe\">\n  <thead>\n    <tr style=\"text-align: right;\">\n      <th></th>\n      <th>ID</th>\n      <th>Quartos</th>\n      <th>Área</th>\n      <th>Proximidade com Mêtro</th>\n      <th>Vagas</th>\n      <th>Banheiros</th>\n      <th>Andares</th>\n      <th>Mobiliagem</th>\n    </tr>\n  </thead>\n  <tbody>\n    <tr>\n      <th>0</th>\n      <td>443805</td>\n      <td>1</td>\n      <td>27</td>\n      <td>Próx. ao metrô</td>\n      <td>-</td>\n      <td>1</td>\n      <td>Até 3° andar</td>\n      <td>Sem mobília</td>\n    </tr>\n    <tr>\n      <th>1</th>\n      <td>1781185</td>\n      <td>2</td>\n      <td>53</td>\n      <td>Próx. ao metrô</td>\n      <td>1</td>\n      <td>1</td>\n      <td>Até 3° andar</td>\n      <td>Sem mobília</td>\n    </tr>\n    <tr>\n      <th>2</th>\n      <td>453438</td>\n      <td>1</td>\n      <td>51</td>\n      <td>Próx. ao metrô</td>\n      <td>1</td>\n      <td>1</td>\n      <td>8° a 11° andar</td>\n      <td>Mobiliado</td>\n    </tr>\n    <tr>\n      <th>3</th>\n      <td>1762586</td>\n      <td>4</td>\n      <td>450</td>\n      <td>Sem metrô próx.</td>\n      <td>2</td>\n      <td>4</td>\n      <td>-</td>\n      <td>Sem mobília</td>\n    </tr>\n    <tr>\n      <th>4</th>\n      <td>1027119</td>\n      <td>2</td>\n      <td>55</td>\n      <td>Sem metrô próx.</td>\n      <td>1</td>\n      <td>1</td>\n      <td>Até 3° andar</td>\n      <td>Sem mobília</td>\n    </tr>\n    <tr>\n      <th>5</th>\n      <td>1779919</td>\n      <td>2</td>\n      <td>50</td>\n      <td>Próx. ao metrô</td>\n      <td>1</td>\n      <td>1</td>\n      <td>4° a 7° andar</td>\n      <td>Sem mobília</td>\n    </tr>\n    <tr>\n      <th>6</th>\n      <td>1263229</td>\n      <td>4</td>\n      <td>441</td>\n      <td>Próx. ao metrô</td>\n      <td>3</td>\n      <td>3</td>\n      <td>-</td>\n      <td>Sem mobília</td>\n    </tr>\n    <tr>\n      <th>7</th>\n      <td>939865</td>\n      <td>2</td>\n      <td>78</td>\n      <td>Sem metrô próx.</td>\n      <td>-</td>\n      <td>1</td>\n      <td>Até 3° andar</td>\n      <td>Sem mobília</td>\n    </tr>\n    <tr>\n      <th>8</th>\n      <td>1306088</td>\n      <td>2</td>\n      <td>50</td>\n      <td>Sem metrô próx.</td>\n      <td>1</td>\n      <td>2</td>\n      <td>8° a 11° andar</td>\n      <td>Sem mobília</td>\n    </tr>\n    <tr>\n      <th>9</th>\n      <td>1069478</td>\n      <td>3</td>\n      <td>74</td>\n      <td>Sem metrô próx.</td>\n      <td>1</td>\n      <td>2</td>\n      <td>Até 3° andar</td>\n      <td>Sem mobília</td>\n    </tr>\n    <tr>\n      <th>10</th>\n      <td>1743612</td>\n      <td>3</td>\n      <td>21</td>\n      <td>Sem metrô próx.</td>\n      <td>3</td>\n      <td>4</td>\n      <td>-</td>\n      <td>Sem mobília</td>\n    </tr>\n    <tr>\n      <th>11</th>\n      <td>1753856</td>\n      <td>2</td>\n      <td>92</td>\n      <td>Próx. ao metrô</td>\n      <td>2</td>\n      <td>1</td>\n      <td>-</td>\n      <td>Sem mobília</td>\n    </tr>\n    <tr>\n      <th>12</th>\n      <td>Início</td>\n      <td>N</td>\n      <td>Not Informed</td>\n      <td>Not Informed</td>\n      <td>N</td>\n      <td>N</td>\n      <td>Not Informed</td>\n      <td>Not Informed</td>\n    </tr>\n    <tr>\n      <th>13</th>\n      <td>1779427</td>\n      <td>2</td>\n      <td>45</td>\n      <td>Sem metrô próx.</td>\n      <td>1</td>\n      <td>1</td>\n      <td>8° a 11° andar</td>\n      <td>Mobiliado</td>\n    </tr>\n    <tr>\n      <th>14</th>\n      <td>815227</td>\n      <td>2</td>\n      <td>81</td>\n      <td>Sem metrô próx.</td>\n      <td>1</td>\n      <td>1</td>\n      <td>8° a 11° andar</td>\n      <td>Sem mobília</td>\n    </tr>\n    <tr>\n      <th>15</th>\n      <td>1755194</td>\n      <td>1</td>\n      <td>56</td>\n      <td>Próx. ao metrô</td>\n      <td>1</td>\n      <td>2</td>\n      <td>4° a 7° andar</td>\n      <td>Sem mobília</td>\n    </tr>\n    <tr>\n      <th>16</th>\n      <td>1677840</td>\n      <td>3</td>\n      <td>149</td>\n      <td>Próx. ao metrô</td>\n      <td>2</td>\n      <td>3</td>\n      <td>-</td>\n      <td>Sem mobília</td>\n    </tr>\n    <tr>\n      <th>17</th>\n      <td>1695336</td>\n      <td>2</td>\n      <td>59</td>\n      <td>Próx. ao metrô</td>\n      <td>1</td>\n      <td>1</td>\n      <td>Até 3° andar</td>\n      <td>Sem mobília</td>\n    </tr>\n    <tr>\n      <th>18</th>\n      <td>1751419</td>\n      <td>2</td>\n      <td>100</td>\n      <td>Sem metrô próx.</td>\n      <td>1</td>\n      <td>1</td>\n      <td>4° a 7° andar</td>\n      <td>Sem mobília</td>\n    </tr>\n    <tr>\n      <th>19</th>\n      <td>1762209</td>\n      <td>3</td>\n      <td>120</td>\n      <td>Próx. ao metrô</td>\n      <td>2</td>\n      <td>3</td>\n      <td>4° a 7° andar</td>\n      <td>Sem mobília</td>\n    </tr>\n    <tr>\n      <th>20</th>\n      <td>587161</td>\n      <td>2</td>\n      <td>70</td>\n      <td>Próx. ao metrô</td>\n      <td>-</td>\n      <td>1</td>\n      <td>4° a 7° andar</td>\n      <td>Sem mobília</td>\n    </tr>\n    <tr>\n      <th>21</th>\n      <td>1267735</td>\n      <td>3</td>\n      <td>90</td>\n      <td>Sem metrô próx.</td>\n      <td>-</td>\n      <td>2</td>\n      <td>Até 3° andar</td>\n      <td>Sem mobília</td>\n    </tr>\n    <tr>\n      <th>22</th>\n      <td>1780585</td>\n      <td>1</td>\n      <td>32</td>\n      <td>Próx. ao metrô</td>\n      <td>-</td>\n      <td>1</td>\n      <td>12° a 15° andar</td>\n      <td>Mobiliado</td>\n    </tr>\n    <tr>\n      <th>23</th>\n      <td>543327</td>\n      <td>2</td>\n      <td>45</td>\n      <td>Sem metrô próx.</td>\n      <td>1</td>\n      <td>1</td>\n      <td>Até 3° andar</td>\n      <td>Sem mobília</td>\n    </tr>\n    <tr>\n      <th>24</th>\n      <td>583328</td>\n      <td>2</td>\n      <td>86</td>\n      <td>Próx. ao metrô</td>\n      <td>-</td>\n      <td>1</td>\n      <td>8° a 11° andar</td>\n      <td>Sem mobília</td>\n    </tr>\n    <tr>\n      <th>25</th>\n      <td>1314880</td>\n      <td>3</td>\n      <td>110</td>\n      <td>Próx. ao metrô</td>\n      <td>1</td>\n      <td>2</td>\n      <td>Até 3° andar</td>\n      <td>Sem mobília</td>\n    </tr>\n    <tr>\n      <th>26</th>\n      <td>1705464</td>\n      <td>2</td>\n      <td>50</td>\n      <td>Sem metrô próx.</td>\n      <td>1</td>\n      <td>1</td>\n      <td>12° a 15° andar</td>\n      <td>Sem mobília</td>\n    </tr>\n    <tr>\n      <th>27</th>\n      <td>1780969</td>\n      <td>1</td>\n      <td>32</td>\n      <td>Próx. ao metrô</td>\n      <td>-</td>\n      <td>1</td>\n      <td>4° a 7° andar</td>\n      <td>Sem mobília</td>\n    </tr>\n    <tr>\n      <th>28</th>\n      <td>1310029</td>\n      <td>2</td>\n      <td>50</td>\n      <td>Próx. ao metrô</td>\n      <td>1</td>\n      <td>1</td>\n      <td>Até 3° andar</td>\n      <td>Mobiliado</td>\n    </tr>\n    <tr>\n      <th>29</th>\n      <td>1742608</td>\n      <td>2</td>\n      <td>75</td>\n      <td>Próx. ao metrô</td>\n      <td>1</td>\n      <td>1</td>\n      <td>-</td>\n      <td>Sem mobília</td>\n    </tr>\n    <tr>\n      <th>30</th>\n      <td>1764677</td>\n      <td>1</td>\n      <td>55</td>\n      <td>Próx. ao metrô</td>\n      <td>-</td>\n      <td>1</td>\n      <td>Até 3° andar</td>\n      <td>Sem mobília</td>\n    </tr>\n    <tr>\n      <th>31</th>\n      <td>1741802</td>\n      <td>2</td>\n      <td>65</td>\n      <td>Sem metrô próx.</td>\n      <td>1</td>\n      <td>1</td>\n      <td>Até 3° andar</td>\n      <td>Sem mobília</td>\n    </tr>\n    <tr>\n      <th>32</th>\n      <td>1777462</td>\n      <td>2</td>\n      <td>117</td>\n      <td>Próx. ao metrô</td>\n      <td>1</td>\n      <td>2</td>\n      <td>Até 3° andar</td>\n      <td>Mobiliado</td>\n    </tr>\n    <tr>\n      <th>33</th>\n      <td>1774894</td>\n      <td>1</td>\n      <td>60</td>\n      <td>Sem metrô próx.</td>\n      <td>1</td>\n      <td>2</td>\n      <td>4° a 7° andar</td>\n      <td>Mobiliado</td>\n    </tr>\n    <tr>\n      <th>34</th>\n      <td>1756233</td>\n      <td>3</td>\n      <td>71</td>\n      <td>Sem metrô próx.</td>\n      <td>-</td>\n      <td>2</td>\n      <td>4° a 7° andar</td>\n      <td>Sem mobília</td>\n    </tr>\n    <tr>\n      <th>35</th>\n      <td>485568</td>\n      <td>3</td>\n      <td>117</td>\n      <td>Próx. ao metrô</td>\n      <td>-</td>\n      <td>2</td>\n      <td>4° a 7° andar</td>\n      <td>Sem mobília</td>\n    </tr>\n  </tbody>\n</table>\n</div>"
     },
     "execution_count": 27,
     "metadata": {},
     "output_type": "execute_result"
    }
   ],
   "source": [
    "descrição_especificas = {\n",
    "    'ID': lista_id,\n",
    "    'Quartos': quartos,\n",
    "    'Área': tamanho,\n",
    "    'Proximidade com Mêtro': metro,\n",
    "    'Vagas': vagas,\n",
    "    'Banheiros': banheiros,\n",
    "    'Andares': andar,\n",
    "    'Mobiliagem': mobilia\n",
    "}\n",
    "\n",
    "df2 = pd.DataFrame(descrição_especificas)\n",
    "df2"
   ],
   "metadata": {
    "collapsed": false,
    "ExecuteTime": {
     "end_time": "2024-05-06T21:09:45.747942400Z",
     "start_time": "2024-05-06T21:09:45.718594500Z"
    }
   }
  }
 ],
 "metadata": {
  "kernelspec": {
   "display_name": "Python 3",
   "language": "python",
   "name": "python3"
  },
  "language_info": {
   "codemirror_mode": {
    "name": "ipython",
    "version": 2
   },
   "file_extension": ".py",
   "mimetype": "text/x-python",
   "name": "python",
   "nbconvert_exporter": "python",
   "pygments_lexer": "ipython2",
   "version": "2.7.6"
  }
 },
 "nbformat": 4,
 "nbformat_minor": 0
}
