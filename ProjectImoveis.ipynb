{
 "cells": [
  {
   "cell_type": "markdown",
   "source": [
    "Importando as bibliotecas necessárias."
   ],
   "metadata": {
    "collapsed": false
   }
  },
  {
   "cell_type": "code",
   "execution_count": 59,
   "outputs": [],
   "source": [
    "from selenium import webdriver\n",
    "from selenium.webdriver.chrome.options import Options\n",
    "from selenium.webdriver.common.by import By\n",
    "from selenium.webdriver.support.ui import WebDriverWait\n",
    "from selenium.webdriver.support import expected_conditions as EC\n",
    "from bs4 import BeautifulSoup\n",
    "import time\n",
    "import requests\n",
    "import pandas as pd"
   ],
   "metadata": {
    "collapsed": false,
    "ExecuteTime": {
     "end_time": "2024-05-08T00:11:43.049761100Z",
     "start_time": "2024-05-08T00:11:42.812200700Z"
    }
   }
  },
  {
   "cell_type": "markdown",
   "source": [
    "Extração dos links, utilizando BS4 e Selenium, site base contém diversos links dos imóveis e um botão \"Ver Mais\"\n",
    "em que utilizei Selenium (linha 20 - 22) para continuar avançando.\n",
    "\n",
    "Pode ser útil alterar os parãmetros em 'WebDriverWait(driver, 2)' e 'time.sleep(2)' dependendo da potência\n",
    "do computador do usuário desse código."
   ],
   "metadata": {
    "collapsed": false
   }
  },
  {
   "cell_type": "code",
   "execution_count": 60,
   "outputs": [],
   "source": [
    "lista_links = []\n",
    "\n",
    "def extrair_links(soup):\n",
    "    linked = soup.find_all(\"a\", class_='sc-1d0oyoa-0 bfDoiv')\n",
    "    return [link.get('href') for link in linked]\n",
    "\n",
    "url = f'https://www.quintoandar.com.br/comprar/imovel/rio-de-janeiro-rj-brasil'\n",
    "\n",
    "chrome_options = Options()\n",
    "chrome_options.add_argument('--headless')\n",
    "\n",
    "driver = webdriver.Chrome(options=chrome_options)\n",
    "\n",
    "try:\n",
    "    driver.get(url)\n",
    "    wait = WebDriverWait(driver, 5)\n",
    "    for i in range(10):\n",
    "        try:\n",
    "            ver_mais_button = wait.until(EC.element_to_be_clickable((By.XPATH, '//button[text()=\"Ver mais\"]')))\n",
    "            ver_mais_button.click()\n",
    "            time.sleep(10)\n",
    "        except:\n",
    "            break\n",
    "    final_html = driver.page_source\n",
    "    soup_final = BeautifulSoup(final_html, 'html.parser')\n",
    "    lista_links = extrair_links(soup_final)\n",
    "\n",
    "finally:\n",
    "    driver.quit()"
   ],
   "metadata": {
    "collapsed": false,
    "ExecuteTime": {
     "end_time": "2024-05-08T00:13:47.220174100Z",
     "start_time": "2024-05-08T00:11:42.844269800Z"
    }
   }
  },
  {
   "cell_type": "markdown",
   "source": [
    "Criando as listas em que os dados serão armazenados."
   ],
   "metadata": {
    "collapsed": false
   }
  },
  {
   "cell_type": "code",
   "execution_count": 61,
   "outputs": [],
   "source": [
    "lista_preços = []\n",
    "lista_elem = []\n",
    "lista_item = []\n",
    "lista_condominio = []\n",
    "lista_id = []\n",
    "lista_iptus = []\n",
    "lista_endereço1 = []\n",
    "lista_endereço2 = []\n",
    "lista_tempos = []\n",
    "lista_tempos_dias = []\n",
    "lista_tipos = []"
   ],
   "metadata": {
    "collapsed": false,
    "ExecuteTime": {
     "end_time": "2024-05-08T00:13:47.235339Z",
     "start_time": "2024-05-08T00:13:47.225175Z"
    }
   }
  },
  {
   "cell_type": "markdown",
   "source": [
    "Criando as funções que serão utilizadas, todas elas possuem condicionais que garantem que, mesmo que o elemento\n",
    "não seja encontrado, ele ainda retorne para a lista \"Not Informed\", mantendo a ordem das listas."
   ],
   "metadata": {
    "collapsed": false
   }
  },
  {
   "cell_type": "code",
   "execution_count": 62,
   "outputs": [],
   "source": [
    "def id(soup):\n",
    "    buscando = soup.find('a',{'aria-current': 'page'})\n",
    "    if buscando:\n",
    "            id = buscando.find('span', class_ = 'CozyTypography xih2fc Bm9DLt _1tBHcU')\n",
    "            lista_id.append(id.text.strip().replace(\"Imóvel\",\"\")) if id else lista_id.append(\"Not Informed\")\n",
    "    else:\n",
    "        lista_id.append(\"Not Informed\")\n",
    "    return lista_id\n",
    "\n",
    "def tipo(soup):\n",
    "    buscando = soup.find_all('h1', class_ = 'CozyTypography xih2fc EKXjIf wIyEP2 _8JKqPG r4Q8xM')\n",
    "    if buscando:\n",
    "        for encontrado in buscando:\n",
    "            cleaning = encontrado.text.split()\n",
    "            lista_tipos.append(cleaning[0]) if cleaning else lista_tipos.append(\"Not Informed\")\n",
    "    else:\n",
    "        lista_tipos.append(\"Not Informed\")\n",
    "    return lista_tipos\n",
    "\n",
    "def precos(soup):\n",
    "    buscando = soup.find(\"p\", class_='CozyTypography xih2fc wIyEP2 _8JKqPG r4Q8xM')\n",
    "    if buscando:\n",
    "            cleaning = buscando.text.strip().replace(\"\\xa0\",\"\")\n",
    "            lista_preços.append(cleaning.replace(\"R$\",''))\n",
    "    else:\n",
    "        lista_preços.append(\"Not Informed\")\n",
    "    return lista_preços\n",
    "\n",
    "def enderecos_pt1(soup):\n",
    "    buscando = soup.find_all(\"small\", class_='CozyTypography xih2fc pwAPLE')\n",
    "    if buscando:\n",
    "        for endereço in buscando:\n",
    "            lista_endereço1.append(endereço.text.strip().replace(\"\\xa0\",\"\"))\n",
    "    else:\n",
    "        lista_endereço1.append(\"Not Informed\")\n",
    "    return lista_endereço1\n",
    "\n",
    "def enderecos_pt2(soup):\n",
    "        buscando = soup.find(\"h4\", class_='CozyTypography xih2fc EqjlRj')\n",
    "        if buscando:\n",
    "                lista_endereço2.append(buscando.text.strip())\n",
    "        else:\n",
    "                lista_endereço2.append(\"Not Informed\")\n",
    "        return lista_endereço2\n",
    "\n",
    "def elementos_base(soup):\n",
    "        cont = 0\n",
    "        elemexists = soup.find_all(\"p\", class_ = \"CozyTypography xih2fc EKXjIf Ci-jp3\")\n",
    "        if elemexists:\n",
    "            for elem_end in elemexists:\n",
    "                if cont == 7:\n",
    "                    break\n",
    "                else:\n",
    "                    lista_elem.append(elem_end.text.strip().replace(\"\\xa0\",\"\"))\n",
    "                    cont = cont + 1\n",
    "        else:\n",
    "            for i in range(7):\n",
    "                lista_elem.append(\"Not Informed\")\n",
    "        return lista_elem\n",
    "\n",
    "def itens(soup):\n",
    "    sublist = []\n",
    "    item = soup.find_all(\"div\", class_='MuiBox-root mui-117mro9')\n",
    "    if item:\n",
    "        for elem in item:\n",
    "            exists = elem.find_all(\"p\", class_ = 'CozyTypography xih2fc Ci-jp3 p4uM-0')\n",
    "            if exists:\n",
    "                for elemnow in exists:\n",
    "                    sublist.append(elemnow.text.strip().replace(\"\\xa0\",\"\"))\n",
    "    else:\n",
    "        sublist.append(\"Not Informed\")\n",
    "    cleaning = ', '.join(sublist)\n",
    "    return cleaning\n",
    "\n",
    "def condominio(soup):\n",
    "    buscando = soup.find('span', class_ = 'CozyTypography sc-1jl0yev-0 cTsiPw xih2fc _72Hu5c Ci-jp3')\n",
    "    if buscando:\n",
    "            cleaning = buscando.text.strip().replace('\\xa0','')\n",
    "            lista_condominio.append(cleaning.replace(\"R$\",\"\"))\n",
    "    else:\n",
    "        lista_condominio.append(\"Not Informed\")\n",
    "    return lista_condominio\n",
    "\n",
    "def iptu(soup):\n",
    "    buscando = soup.find_all('span', class_=\"CozyTypography sc-1jl0yev-0 cTsiPw xih2fc _72Hu5c Ci-jp3\")\n",
    "    if buscando:\n",
    "        for i in range(1, len(buscando), 2):\n",
    "            iptu_text = buscando[i].text\n",
    "            cleaned = iptu_text.replace(\"R$\", \"\").replace(\"\\xa0\", \"\")\n",
    "            cleaned1 = cleaned.replace(\"12x \",\"\")\n",
    "            lista_iptus.append(cleaned1)\n",
    "    else:\n",
    "        lista_iptus.append(\"Not Informed\")\n",
    "    return lista_iptus\n",
    "\n",
    "def tempo(soup):\n",
    "    buscando = soup.find('small',class_ = 'CozyTypography xih2fc Bm9DLt _72Hu5c _1tBHcU')\n",
    "    if buscando:\n",
    "        lista_tempos.append(buscando.text.strip())\n",
    "    else:\n",
    "        lista_tempos.append(\"Not Informed\")\n",
    "    return lista_tempos\n",
    "\n",
    "def converte_dias(lista_tempos):\n",
    "    for elem in lista_tempos:\n",
    "        divisão = elem.split()\n",
    "        if elem == \"Not Informed\":\n",
    "            lista_tempos_dias.append(\"Not Informed\")\n",
    "        elif divisão[3] == 'mês' or divisão[3] == 'meses':\n",
    "            lista_tempos_dias.append(int(divisão[2]) * 30)\n",
    "        elif divisão[3] == 'horas' or divisão[3] == 'hora':\n",
    "            lista_tempos_dias.append(round(int(divisão[2])/24,2))\n",
    "        elif divisão[3] == 'dias' or divisão[3] == 'dia':\n",
    "            lista_tempos_dias.append(int(divisão[2]))\n",
    "        else:\n",
    "            lista_tempos_dias.append(int(divisão[4])*365)\n",
    "    return lista_tempos_dias"
   ],
   "metadata": {
    "collapsed": false,
    "ExecuteTime": {
     "end_time": "2024-05-08T00:13:47.286130700Z",
     "start_time": "2024-05-08T00:13:47.260638600Z"
    }
   }
  },
  {
   "cell_type": "markdown",
   "source": [
    "Iterando pela lista de links obtidos, e aplicando as funções mencionadas acima."
   ],
   "metadata": {
    "collapsed": false
   }
  },
  {
   "cell_type": "code",
   "execution_count": 63,
   "outputs": [],
   "source": [
    "for links in lista_links:\n",
    "    response = requests.get(links)\n",
    "    html_content = response.content\n",
    "    soup = BeautifulSoup(html_content, 'html.parser')\n",
    "    iptu(soup)\n",
    "    id(soup)\n",
    "    precos(soup)\n",
    "    condominio(soup)\n",
    "    elementos_base(soup)\n",
    "    enderecos_pt1(soup)\n",
    "    enderecos_pt2(soup)\n",
    "    lista_item.append(itens(soup))\n",
    "    tempo(soup)\n",
    "    tipo(soup)"
   ],
   "metadata": {
    "collapsed": false,
    "ExecuteTime": {
     "end_time": "2024-05-08T00:15:43.552230900Z",
     "start_time": "2024-05-08T00:13:47.291268400Z"
    }
   }
  },
  {
   "cell_type": "markdown",
   "source": [
    "Populando mais listas derivadas da outra lista \"Lista_Elem\", que foi preparada de modo que, a cada 7 elementos\n",
    "fosse relacionada à um novo link, além disso, também convertendo os \"meses\", \"anos\", \"horas\" para \"dias\"."
   ],
   "metadata": {
    "collapsed": false
   }
  },
  {
   "cell_type": "code",
   "execution_count": null,
   "outputs": [],
   "source": [
    "quartos = []\n",
    "tamanho = []\n",
    "metro = []\n",
    "vagas = []\n",
    "banheiros = []\n",
    "andar = []\n",
    "mobilia = []\n",
    "\n",
    "for i in range(len(lista_elem)):\n",
    "    if i % 7 == 0:\n",
    "        quartos.append(lista_elem[i][0])\n",
    "    elif i % 7 == 1:\n",
    "        tamanho.append(lista_elem[i].replace(\"m²\",''))\n",
    "    elif i % 7 == 2:\n",
    "        metro.append(lista_elem[i])\n",
    "    elif i % 7 == 3:\n",
    "        vagas.append(lista_elem[i][0])\n",
    "    elif i % 7 == 4:\n",
    "        banheiros.append(lista_elem[i][0])\n",
    "    elif i % 7 == 5:\n",
    "        andar.append(lista_elem[i])\n",
    "    elif i % 7 == 6:\n",
    "        mobilia.append(lista_elem[i])\n",
    "\n",
    "converte_dias(lista_tempos)\n"
   ],
   "metadata": {
    "collapsed": false
   }
  },
  {
   "cell_type": "markdown",
   "source": [
    "Primeiro dataset com informações GERAIS."
   ],
   "metadata": {
    "collapsed": false
   }
  },
  {
   "cell_type": "code",
   "execution_count": 65,
   "outputs": [
    {
     "data": {
      "text/plain": "           ID         Tipo                                          Descrição  \\\n0     1027119  Apartamento  Piscina privativa, Quartos e corredores com po...   \n1     1263229         Casa  Box, Varanda, Armários na cozinha, Quintal, So...   \n2      815144  Apartamento                                                      \n3     1762586         Casa  Box, Varanda, Armários nos banheiros, Armários...   \n4     1743612         Casa  Box, Varanda, Armários embutidos no quarto, Ar...   \n..        ...          ...                                                ...   \n127    622975       Studio  Armários embutidos no quarto, Armários nos ban...   \n128    652678         Casa                                                      \n129   1767937         Casa             Box, Varanda, Quintal, Área de serviço   \n130   1777905  Apartamento  Box, Varanda, Armários nos banheiros, Armários...   \n131    529139  Apartamento  Box, Armários nos banheiros, Armários na cozin...   \n\n                          Bairro                    Logradouro  \\\n0         Tanque, Rio de Janeiro             Rua Manuel Vieira   \n1        Piedade, Rio de Janeiro          Rua Almeida Nogueira   \n2         Centro, Rio de Janeiro         Rua Alcântara Machado   \n3         Tanque, Rio de Janeiro            Estrada da Covanca   \n4         Tanque, Rio de Janeiro                    Rua Jordão   \n..                           ...                           ...   \n127       Catete, Rio de Janeiro              Rua Bento Lisboa   \n128    Riachuelo, Rio de Janeiro      Rua Marechal Bittencourt   \n129  Jacarepaguá, Rio de Janeiro            Estrada da Ligação   \n130      Benfica, Rio de Janeiro  Rua Senador Bernado Monteiro   \n131       Centro, Rio de Janeiro            Rua Senador Dantas   \n\n     Publicação(Dias)  \n0                5.00  \n1              150.00  \n2                0.17  \n3                2.00  \n4               30.00  \n..                ...  \n127              7.00  \n128             30.00  \n129             18.00  \n130              4.00  \n131             30.00  \n\n[132 rows x 6 columns]",
      "text/html": "<div>\n<style scoped>\n    .dataframe tbody tr th:only-of-type {\n        vertical-align: middle;\n    }\n\n    .dataframe tbody tr th {\n        vertical-align: top;\n    }\n\n    .dataframe thead th {\n        text-align: right;\n    }\n</style>\n<table border=\"1\" class=\"dataframe\">\n  <thead>\n    <tr style=\"text-align: right;\">\n      <th></th>\n      <th>ID</th>\n      <th>Tipo</th>\n      <th>Descrição</th>\n      <th>Bairro</th>\n      <th>Logradouro</th>\n      <th>Publicação(Dias)</th>\n    </tr>\n  </thead>\n  <tbody>\n    <tr>\n      <th>0</th>\n      <td>1027119</td>\n      <td>Apartamento</td>\n      <td>Piscina privativa, Quartos e corredores com po...</td>\n      <td>Tanque, Rio de Janeiro</td>\n      <td>Rua Manuel Vieira</td>\n      <td>5.00</td>\n    </tr>\n    <tr>\n      <th>1</th>\n      <td>1263229</td>\n      <td>Casa</td>\n      <td>Box, Varanda, Armários na cozinha, Quintal, So...</td>\n      <td>Piedade, Rio de Janeiro</td>\n      <td>Rua Almeida Nogueira</td>\n      <td>150.00</td>\n    </tr>\n    <tr>\n      <th>2</th>\n      <td>815144</td>\n      <td>Apartamento</td>\n      <td></td>\n      <td>Centro, Rio de Janeiro</td>\n      <td>Rua Alcântara Machado</td>\n      <td>0.17</td>\n    </tr>\n    <tr>\n      <th>3</th>\n      <td>1762586</td>\n      <td>Casa</td>\n      <td>Box, Varanda, Armários nos banheiros, Armários...</td>\n      <td>Tanque, Rio de Janeiro</td>\n      <td>Estrada da Covanca</td>\n      <td>2.00</td>\n    </tr>\n    <tr>\n      <th>4</th>\n      <td>1743612</td>\n      <td>Casa</td>\n      <td>Box, Varanda, Armários embutidos no quarto, Ar...</td>\n      <td>Tanque, Rio de Janeiro</td>\n      <td>Rua Jordão</td>\n      <td>30.00</td>\n    </tr>\n    <tr>\n      <th>...</th>\n      <td>...</td>\n      <td>...</td>\n      <td>...</td>\n      <td>...</td>\n      <td>...</td>\n      <td>...</td>\n    </tr>\n    <tr>\n      <th>127</th>\n      <td>622975</td>\n      <td>Studio</td>\n      <td>Armários embutidos no quarto, Armários nos ban...</td>\n      <td>Catete, Rio de Janeiro</td>\n      <td>Rua Bento Lisboa</td>\n      <td>7.00</td>\n    </tr>\n    <tr>\n      <th>128</th>\n      <td>652678</td>\n      <td>Casa</td>\n      <td></td>\n      <td>Riachuelo, Rio de Janeiro</td>\n      <td>Rua Marechal Bittencourt</td>\n      <td>30.00</td>\n    </tr>\n    <tr>\n      <th>129</th>\n      <td>1767937</td>\n      <td>Casa</td>\n      <td>Box, Varanda, Quintal, Área de serviço</td>\n      <td>Jacarepaguá, Rio de Janeiro</td>\n      <td>Estrada da Ligação</td>\n      <td>18.00</td>\n    </tr>\n    <tr>\n      <th>130</th>\n      <td>1777905</td>\n      <td>Apartamento</td>\n      <td>Box, Varanda, Armários nos banheiros, Armários...</td>\n      <td>Benfica, Rio de Janeiro</td>\n      <td>Rua Senador Bernado Monteiro</td>\n      <td>4.00</td>\n    </tr>\n    <tr>\n      <th>131</th>\n      <td>529139</td>\n      <td>Apartamento</td>\n      <td>Box, Armários nos banheiros, Armários na cozin...</td>\n      <td>Centro, Rio de Janeiro</td>\n      <td>Rua Senador Dantas</td>\n      <td>30.00</td>\n    </tr>\n  </tbody>\n</table>\n<p>132 rows × 6 columns</p>\n</div>"
     },
     "execution_count": 65,
     "metadata": {},
     "output_type": "execute_result"
    }
   ],
   "source": [
    "descrição_imovel = {\n",
    "    'ID': lista_id,\n",
    "    'Tipo' : lista_tipos,\n",
    "    'Descrição': lista_item,\n",
    "    'Bairro' : lista_endereço1,\n",
    "    'Logradouro' : lista_endereço2,\n",
    "    'Publicação(Dias)' : lista_tempos_dias\n",
    "}\n",
    "\n",
    "colunas_numericas = ['ID','Publicação(Dias)']\n",
    "\n",
    "df = pd.DataFrame(descrição_imovel)\n",
    "df"
   ],
   "metadata": {
    "collapsed": false,
    "ExecuteTime": {
     "end_time": "2024-05-08T00:15:43.687263400Z",
     "start_time": "2024-05-08T00:15:43.606108700Z"
    }
   }
  },
  {
   "cell_type": "markdown",
   "source": [
    " Segundo dataset com informações de CUSTOS"
   ],
   "metadata": {
    "collapsed": false
   }
  },
  {
   "cell_type": "code",
   "execution_count": 66,
   "outputs": [
    {
     "data": {
      "text/plain": "          ID    Preço Condomínio IPTU\n0    1027119  150.000        450    0\n1    1263229  250.000          0  459\n2     815144  330.000        466   66\n3    1762586  450.000         70    0\n4    1743612  245.000        250    0\n..       ...      ...        ...  ...\n127   622975  270.000        453   21\n128   652678  200.000          0    0\n129  1767937  200.000          0    8\n130  1777905  295.000        310    0\n131   529139  259.000        450  157\n\n[132 rows x 4 columns]",
      "text/html": "<div>\n<style scoped>\n    .dataframe tbody tr th:only-of-type {\n        vertical-align: middle;\n    }\n\n    .dataframe tbody tr th {\n        vertical-align: top;\n    }\n\n    .dataframe thead th {\n        text-align: right;\n    }\n</style>\n<table border=\"1\" class=\"dataframe\">\n  <thead>\n    <tr style=\"text-align: right;\">\n      <th></th>\n      <th>ID</th>\n      <th>Preço</th>\n      <th>Condomínio</th>\n      <th>IPTU</th>\n    </tr>\n  </thead>\n  <tbody>\n    <tr>\n      <th>0</th>\n      <td>1027119</td>\n      <td>150.000</td>\n      <td>450</td>\n      <td>0</td>\n    </tr>\n    <tr>\n      <th>1</th>\n      <td>1263229</td>\n      <td>250.000</td>\n      <td>0</td>\n      <td>459</td>\n    </tr>\n    <tr>\n      <th>2</th>\n      <td>815144</td>\n      <td>330.000</td>\n      <td>466</td>\n      <td>66</td>\n    </tr>\n    <tr>\n      <th>3</th>\n      <td>1762586</td>\n      <td>450.000</td>\n      <td>70</td>\n      <td>0</td>\n    </tr>\n    <tr>\n      <th>4</th>\n      <td>1743612</td>\n      <td>245.000</td>\n      <td>250</td>\n      <td>0</td>\n    </tr>\n    <tr>\n      <th>...</th>\n      <td>...</td>\n      <td>...</td>\n      <td>...</td>\n      <td>...</td>\n    </tr>\n    <tr>\n      <th>127</th>\n      <td>622975</td>\n      <td>270.000</td>\n      <td>453</td>\n      <td>21</td>\n    </tr>\n    <tr>\n      <th>128</th>\n      <td>652678</td>\n      <td>200.000</td>\n      <td>0</td>\n      <td>0</td>\n    </tr>\n    <tr>\n      <th>129</th>\n      <td>1767937</td>\n      <td>200.000</td>\n      <td>0</td>\n      <td>8</td>\n    </tr>\n    <tr>\n      <th>130</th>\n      <td>1777905</td>\n      <td>295.000</td>\n      <td>310</td>\n      <td>0</td>\n    </tr>\n    <tr>\n      <th>131</th>\n      <td>529139</td>\n      <td>259.000</td>\n      <td>450</td>\n      <td>157</td>\n    </tr>\n  </tbody>\n</table>\n<p>132 rows × 4 columns</p>\n</div>"
     },
     "execution_count": 66,
     "metadata": {},
     "output_type": "execute_result"
    }
   ],
   "source": [
    "descrição_valores = {\n",
    "    'ID': lista_id,\n",
    "    'Preço' : lista_preços,\n",
    "    'Condomínio' : lista_condominio,\n",
    "    'IPTU' : lista_iptus,\n",
    "}\n",
    "\n",
    "df1 = pd.DataFrame(descrição_valores)\n",
    "df1['ID'] = pd.to_numeric(df1['ID'], downcast='integer',errors = \"coerce\")\n",
    "df1"
   ],
   "metadata": {
    "collapsed": false,
    "ExecuteTime": {
     "end_time": "2024-05-08T00:15:43.687263400Z",
     "start_time": "2024-05-08T00:15:43.634290400Z"
    }
   }
  },
  {
   "cell_type": "markdown",
   "source": [
    "Terceiro dataset com informações INTERNAS"
   ],
   "metadata": {
    "collapsed": false
   }
  },
  {
   "cell_type": "code",
   "execution_count": 67,
   "outputs": [
    {
     "data": {
      "text/plain": "          ID  Quartos  Área Proximidade com Mêtro  Vagas  Banheiros  \\\n0    1027119        2    55       Sem metrô próx.    1.0          1   \n1    1263229        4   441        Próx. ao metrô    3.0          3   \n2     815144        1    56        Próx. ao metrô    NaN          1   \n3    1762586        4   450       Sem metrô próx.    2.0          4   \n4    1743612        3    21       Sem metrô próx.    3.0          4   \n..       ...      ...   ...                   ...    ...        ...   \n127   622975        1    32        Próx. ao metrô    NaN          1   \n128   652678        2    70        Próx. ao metrô    NaN          1   \n129  1767937        1   180       Sem metrô próx.    3.0          1   \n130  1777905        2    60        Próx. ao metrô    1.0          1   \n131   529139        1    30        Próx. ao metrô    NaN          1   \n\n             Andares   Mobiliagem  \n0       Até 3° andar  Sem mobília  \n1                  -  Sem mobília  \n2      4° a 7° andar  Sem mobília  \n3                  -  Sem mobília  \n4                  -  Sem mobília  \n..               ...          ...  \n127     Até 3° andar  Sem mobília  \n128                -  Sem mobília  \n129     Até 3° andar  Sem mobília  \n130     Até 3° andar  Sem mobília  \n131  16° a 19° andar  Sem mobília  \n\n[132 rows x 8 columns]",
      "text/html": "<div>\n<style scoped>\n    .dataframe tbody tr th:only-of-type {\n        vertical-align: middle;\n    }\n\n    .dataframe tbody tr th {\n        vertical-align: top;\n    }\n\n    .dataframe thead th {\n        text-align: right;\n    }\n</style>\n<table border=\"1\" class=\"dataframe\">\n  <thead>\n    <tr style=\"text-align: right;\">\n      <th></th>\n      <th>ID</th>\n      <th>Quartos</th>\n      <th>Área</th>\n      <th>Proximidade com Mêtro</th>\n      <th>Vagas</th>\n      <th>Banheiros</th>\n      <th>Andares</th>\n      <th>Mobiliagem</th>\n    </tr>\n  </thead>\n  <tbody>\n    <tr>\n      <th>0</th>\n      <td>1027119</td>\n      <td>2</td>\n      <td>55</td>\n      <td>Sem metrô próx.</td>\n      <td>1.0</td>\n      <td>1</td>\n      <td>Até 3° andar</td>\n      <td>Sem mobília</td>\n    </tr>\n    <tr>\n      <th>1</th>\n      <td>1263229</td>\n      <td>4</td>\n      <td>441</td>\n      <td>Próx. ao metrô</td>\n      <td>3.0</td>\n      <td>3</td>\n      <td>-</td>\n      <td>Sem mobília</td>\n    </tr>\n    <tr>\n      <th>2</th>\n      <td>815144</td>\n      <td>1</td>\n      <td>56</td>\n      <td>Próx. ao metrô</td>\n      <td>NaN</td>\n      <td>1</td>\n      <td>4° a 7° andar</td>\n      <td>Sem mobília</td>\n    </tr>\n    <tr>\n      <th>3</th>\n      <td>1762586</td>\n      <td>4</td>\n      <td>450</td>\n      <td>Sem metrô próx.</td>\n      <td>2.0</td>\n      <td>4</td>\n      <td>-</td>\n      <td>Sem mobília</td>\n    </tr>\n    <tr>\n      <th>4</th>\n      <td>1743612</td>\n      <td>3</td>\n      <td>21</td>\n      <td>Sem metrô próx.</td>\n      <td>3.0</td>\n      <td>4</td>\n      <td>-</td>\n      <td>Sem mobília</td>\n    </tr>\n    <tr>\n      <th>...</th>\n      <td>...</td>\n      <td>...</td>\n      <td>...</td>\n      <td>...</td>\n      <td>...</td>\n      <td>...</td>\n      <td>...</td>\n      <td>...</td>\n    </tr>\n    <tr>\n      <th>127</th>\n      <td>622975</td>\n      <td>1</td>\n      <td>32</td>\n      <td>Próx. ao metrô</td>\n      <td>NaN</td>\n      <td>1</td>\n      <td>Até 3° andar</td>\n      <td>Sem mobília</td>\n    </tr>\n    <tr>\n      <th>128</th>\n      <td>652678</td>\n      <td>2</td>\n      <td>70</td>\n      <td>Próx. ao metrô</td>\n      <td>NaN</td>\n      <td>1</td>\n      <td>-</td>\n      <td>Sem mobília</td>\n    </tr>\n    <tr>\n      <th>129</th>\n      <td>1767937</td>\n      <td>1</td>\n      <td>180</td>\n      <td>Sem metrô próx.</td>\n      <td>3.0</td>\n      <td>1</td>\n      <td>Até 3° andar</td>\n      <td>Sem mobília</td>\n    </tr>\n    <tr>\n      <th>130</th>\n      <td>1777905</td>\n      <td>2</td>\n      <td>60</td>\n      <td>Próx. ao metrô</td>\n      <td>1.0</td>\n      <td>1</td>\n      <td>Até 3° andar</td>\n      <td>Sem mobília</td>\n    </tr>\n    <tr>\n      <th>131</th>\n      <td>529139</td>\n      <td>1</td>\n      <td>30</td>\n      <td>Próx. ao metrô</td>\n      <td>NaN</td>\n      <td>1</td>\n      <td>16° a 19° andar</td>\n      <td>Sem mobília</td>\n    </tr>\n  </tbody>\n</table>\n<p>132 rows × 8 columns</p>\n</div>"
     },
     "execution_count": 67,
     "metadata": {},
     "output_type": "execute_result"
    }
   ],
   "source": [
    "descrição_especificas = {\n",
    "    'ID': lista_id,\n",
    "    'Quartos': quartos,\n",
    "    'Área': tamanho,\n",
    "    'Proximidade com Mêtro': metro,\n",
    "    'Vagas': vagas,\n",
    "    'Banheiros': banheiros,\n",
    "    'Andares': andar,\n",
    "    'Mobiliagem': mobilia\n",
    "}\n",
    "\n",
    "colunas_numericas3 = ['ID','Quartos','Área','Vagas','Banheiros']\n",
    "\n",
    "df2 = pd.DataFrame(descrição_especificas)\n",
    "df2[colunas_numericas3] = df2[colunas_numericas3].apply(pd.to_numeric,errors = 'coerce')\n",
    "df2"
   ],
   "metadata": {
    "collapsed": false,
    "ExecuteTime": {
     "end_time": "2024-05-08T00:15:43.802543400Z",
     "start_time": "2024-05-08T00:15:43.710939200Z"
    }
   }
  },
  {
   "cell_type": "markdown",
   "source": [
    "Quarto dataset com a EXPLOSÃO da coluna Descrição"
   ],
   "metadata": {
    "collapsed": false
   }
  },
  {
   "cell_type": "code",
   "execution_count": 68,
   "outputs": [
    {
     "data": {
      "text/plain": "           ID                               Descrição\n0     1027119                       Piscina privativa\n0     1027119  Quartos e corredores com portas amplas\n0     1027119                         Área de serviço\n1     1263229                                     Box\n1     1263229                                 Varanda\n..        ...                                     ...\n130   1777905                         Área de serviço\n131    529139                                     Box\n131    529139                  Armários nos banheiros\n131    529139                     Armários na cozinha\n131    529139                       Geladeira inclusa\n\n[773 rows x 2 columns]",
      "text/html": "<div>\n<style scoped>\n    .dataframe tbody tr th:only-of-type {\n        vertical-align: middle;\n    }\n\n    .dataframe tbody tr th {\n        vertical-align: top;\n    }\n\n    .dataframe thead th {\n        text-align: right;\n    }\n</style>\n<table border=\"1\" class=\"dataframe\">\n  <thead>\n    <tr style=\"text-align: right;\">\n      <th></th>\n      <th>ID</th>\n      <th>Descrição</th>\n    </tr>\n  </thead>\n  <tbody>\n    <tr>\n      <th>0</th>\n      <td>1027119</td>\n      <td>Piscina privativa</td>\n    </tr>\n    <tr>\n      <th>0</th>\n      <td>1027119</td>\n      <td>Quartos e corredores com portas amplas</td>\n    </tr>\n    <tr>\n      <th>0</th>\n      <td>1027119</td>\n      <td>Área de serviço</td>\n    </tr>\n    <tr>\n      <th>1</th>\n      <td>1263229</td>\n      <td>Box</td>\n    </tr>\n    <tr>\n      <th>1</th>\n      <td>1263229</td>\n      <td>Varanda</td>\n    </tr>\n    <tr>\n      <th>...</th>\n      <td>...</td>\n      <td>...</td>\n    </tr>\n    <tr>\n      <th>130</th>\n      <td>1777905</td>\n      <td>Área de serviço</td>\n    </tr>\n    <tr>\n      <th>131</th>\n      <td>529139</td>\n      <td>Box</td>\n    </tr>\n    <tr>\n      <th>131</th>\n      <td>529139</td>\n      <td>Armários nos banheiros</td>\n    </tr>\n    <tr>\n      <th>131</th>\n      <td>529139</td>\n      <td>Armários na cozinha</td>\n    </tr>\n    <tr>\n      <th>131</th>\n      <td>529139</td>\n      <td>Geladeira inclusa</td>\n    </tr>\n  </tbody>\n</table>\n<p>773 rows × 2 columns</p>\n</div>"
     },
     "execution_count": 68,
     "metadata": {},
     "output_type": "execute_result"
    }
   ],
   "source": [
    "descrição_itens = {\n",
    "    'ID': lista_id,\n",
    "    'Descrição': lista_item\n",
    "}\n",
    "\n",
    "df3 = pd.DataFrame(descrição_itens)\n",
    "\n",
    "df3[\"Itens\"] = df3[\"Descrição\"].str.split(\", \")\n",
    "df_exploded = df3.explode(\"Itens\")\n",
    "df_exploded[\"Descrição\"] = df_exploded[\"Itens\"]\n",
    "\n",
    "df_exploded.drop(\"Itens\", axis=1, inplace=True)\n",
    "df_exploded"
   ],
   "metadata": {
    "collapsed": false,
    "ExecuteTime": {
     "end_time": "2024-05-08T00:15:43.900923300Z",
     "start_time": "2024-05-08T00:15:43.722826100Z"
    }
   }
  }
 ],
 "metadata": {
  "kernelspec": {
   "display_name": "Python 3",
   "language": "python",
   "name": "python3"
  },
  "language_info": {
   "codemirror_mode": {
    "name": "ipython",
    "version": 2
   },
   "file_extension": ".py",
   "mimetype": "text/x-python",
   "name": "python",
   "nbconvert_exporter": "python",
   "pygments_lexer": "ipython2",
   "version": "2.7.6"
  }
 },
 "nbformat": 4,
 "nbformat_minor": 0
}
